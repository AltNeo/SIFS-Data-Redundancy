{
 "cells": [
  {
   "cell_type": "markdown",
   "metadata": {},
   "source": [
    "Pass 1 includes \n",
    "0. Extracting all zip files into their respective folders\n",
    "0.5. Checking for any other sub zips\n",
    "1. Listing all files in two directories\n",
    "2. Checking for duplicates from file names\n",
    "3. Generating Checksums for all files\n",
    "4. Checking for duplicates based on the checksums\n"
   ]
  },
  {
   "cell_type": "code",
   "execution_count": null,
   "metadata": {},
   "outputs": [],
   "source": [
    "#Step 1\n",
    "import os\n",
    "import shutil\n",
    "import tarfile\n",
    "import zipfile\n",
    "\n",
    "def extract_files(archive_path):\n",
    "    # Extract the file extension from the archive path\n",
    "    file_extension = os.path.splitext(archive_path)[1]\n",
    "\n",
    "    # Create the destination folder with the same name as the archive\n",
    "    destination_folder = os.path.splitext(archive_path)[0]\n",
    "    os.makedirs(destination_folder, exist_ok=True)\n",
    "\n",
    "    # Extract the files based on the file extension\n",
    "    if file_extension == '.tar.gz':\n",
    "        with tarfile.open(archive_path, 'r:gz') as tar:\n",
    "            tar.extractall(destination_folder)\n",
    "    elif file_extension == '.zip':\n",
    "        with zipfile.ZipFile(archive_path, 'r') as zip:\n",
    "            zip.extractall(destination_folder)\n",
    "    else:\n",
    "        print('Unsupported file extension')\n",
    "\n",
    "    # Return the path of the extracted files\n",
    "    extracted_files_path = os.path.abspath(destination_folder)\n",
    "    return extracted_files_path\n",
    "\n",
    "# Example usage\n",
    "archive_path = 'path/to/archive.tar.gz'\n",
    "extracted_path = extract_files(archive_path)\n",
    "print('Extracted files path:', extracted_path)"
   ]
  },
  {
   "cell_type": "code",
   "execution_count": null,
   "metadata": {},
   "outputs": [],
   "source": [
    "#Search for zips\n",
    "import os\n",
    "import shutil\n",
    "import tarfile\n",
    "import zipfile\n",
    "\n",
    "def extract_files(archive_path):\n",
    "    # Extract the file extension from the archive path\n",
    "    file_extension = os.path.splitext(archive_path)[1]\n",
    "\n",
    "    # Create the destination folder with the same name as the archive\n",
    "    destination_folder = os.path.splitext(archive_path)[0]\n",
    "    os.makedirs(destination_folder, exist_ok=True)\n",
    "\n",
    "    # Extract the files based on the file extension\n",
    "    if file_extension == '.tar.gz':\n",
    "        with tarfile.open(archive_path, 'r:gz') as tar:\n",
    "            tar.extractall(destination_folder)\n",
    "    elif file_extension == '.zip':\n",
    "        with zipfile.ZipFile(archive_path, 'r') as zip:\n",
    "            zip.extractall(destination_folder)\n",
    "    else:\n",
    "        print('Unsupported file extension')\n",
    "\n",
    "# Example usage\n",
    "archive_path = 'path/to/archive.tar.gz'\n",
    "extract_files(archive_path)"
   ]
  },
  {
   "cell_type": "code",
   "execution_count": 5,
   "metadata": {},
   "outputs": [],
   "source": [
    "# File Name List\n",
    "file_names = [\"topic13.py\", \"trial2.py\"]"
   ]
  },
  {
   "cell_type": "code",
   "execution_count": 6,
   "metadata": {},
   "outputs": [
    {
     "name": "stdout",
     "output_type": "stream",
     "text": [
      "{'topic13.py': 491235240, 'trial2.py': 3184956400}\n"
     ]
    }
   ],
   "source": [
    "## Step 3\n",
    "#CRC32 Hashing For Less files\n",
    "\n",
    "import zlib\n",
    "\n",
    "file_crc_dict = {}\n",
    "\n",
    "for file_name in file_names:\n",
    "    with open(file_name, \"rb\") as f:\n",
    "        file_data = f.read()\n",
    "        crc = zlib.crc32(file_data)\n",
    "        file_crc_dict[file_name] = crc\n",
    "\n",
    "print(file_crc_dict)"
   ]
  },
  {
   "cell_type": "code",
   "execution_count": 7,
   "metadata": {},
   "outputs": [
    {
     "name": "stdout",
     "output_type": "stream",
     "text": [
      "{'topic13.py': '188a7056ef6048d07c3031f04567e8952a29941589586321e20fbd798d68a79e', 'trial2.py': '463918e40845d1d12f5603884879dd65aa0edc30b1f940bca034d097bdefd49e'}\n"
     ]
    }
   ],
   "source": [
    "#SHA256 For more files\n",
    "import hashlib\n",
    "\n",
    "file_hash_dict = {}\n",
    "\n",
    "for file_name in file_names:\n",
    "    with open(file_name, \"rb\") as f:\n",
    "        file_data = f.read()\n",
    "        sha256_hash = hashlib.sha256(file_data).hexdigest()\n",
    "        file_hash_dict[file_name] = sha256_hash\n",
    "\n",
    "print(file_hash_dict)"
   ]
  },
  {
   "cell_type": "code",
   "execution_count": 8,
   "metadata": {},
   "outputs": [
    {
     "data": {
      "text/plain": [
       "' To call function\\nmy_dict = {\"Key1\": \"Value1\", \"Key2\": \"Value2\", \"Key3\": \"Value3\"}\\ndict_to_csv(my_dict, \"output.csv\")'"
      ]
     },
     "execution_count": 8,
     "metadata": {},
     "output_type": "execute_result"
    }
   ],
   "source": [
    "#Exporting the dictionary to files\n",
    "import csv\n",
    "\n",
    "def dict_to_csv(dictionary, filename):\n",
    "    with open(filename, 'w', newline='') as file:\n",
    "        writer = csv.writer(file)\n",
    "        writer.writerow(dictionary.keys())\n",
    "        writer.writerow(dictionary.values())\n",
    "\n",
    "''' To call function\n",
    "my_dict = {\"Key1\": \"Value1\", \"Key2\": \"Value2\", \"Key3\": \"Value3\"}\n",
    "dict_to_csv(my_dict, \"output.csv\")'''"
   ]
  },
  {
   "cell_type": "code",
   "execution_count": null,
   "metadata": {},
   "outputs": [],
   "source": []
  },
  {
   "cell_type": "code",
   "execution_count": 9,
   "metadata": {},
   "outputs": [],
   "source": [
    "## Code to create checksum\n",
    "# \"path\" is  for the code to generate checksum for file at the path\n"
   ]
  }
 ],
 "metadata": {
  "kernelspec": {
   "display_name": "Python 3",
   "language": "python",
   "name": "python3"
  },
  "language_info": {
   "codemirror_mode": {
    "name": "ipython",
    "version": 3
   },
   "file_extension": ".py",
   "mimetype": "text/x-python",
   "name": "python",
   "nbconvert_exporter": "python",
   "pygments_lexer": "ipython3",
   "version": "3.11.6"
  }
 },
 "nbformat": 4,
 "nbformat_minor": 2
}
