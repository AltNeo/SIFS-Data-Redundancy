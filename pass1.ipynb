{
 "cells": [
  {
   "cell_type": "markdown",
   "metadata": {},
   "source": [
    "Pass 1 includes \n",
    "0. Extracting all zip files into their respective folders\n",
    "0.5. Checking for any other sub zips\n",
    "1. Listing all files in two directories\n",
    "2. Checking for duplicates from file names\n",
    "3. Generating Checksums for all files\n",
    "4. Checking for duplicates based on the checksums\n"
   ]
  },
  {
   "cell_type": "code",
   "execution_count": 2,
   "metadata": {},
   "outputs": [
    {
     "name": "stdout",
     "output_type": "stream",
     "text": [
      "Unsupported file extension\n",
      "Extracted files path: /mnt/8AE0D819E0D80CF7/SIFS/Working Files/path/to/archive.tar\n"
     ]
    }
   ],
   "source": [
    "#Step 0\n",
    "import os\n",
    "import shutil\n",
    "import tarfile\n",
    "import zipfile\n",
    "\n",
    "def extract_files(archive_path):\n",
    "    # Extract the file extension from the archive path\n",
    "    file_extension = os.path.splitext(archive_path)[1]\n",
    "\n",
    "    # Create the destination folder with the same name as the archive\n",
    "    destination_folder = os.path.splitext(archive_path)[0]\n",
    "    os.makedirs(destination_folder, exist_ok=True)\n",
    "\n",
    "    # Extract the files based on the file extension\n",
    "    if file_extension == '.tar.gz':\n",
    "        with tarfile.open(archive_path, 'r:gz') as tar:\n",
    "            tar.extractall(destination_folder)\n",
    "    elif file_extension == '.zip':\n",
    "        with zipfile.ZipFile(archive_path, 'r') as zip:\n",
    "            zip.extractall(destination_folder)\n",
    "    else:\n",
    "        print('Unsupported file extension')\n",
    "\n",
    "    # Return the path of the extracted files\n",
    "    extracted_files_path = os.path.abspath(destination_folder)\n",
    "    return extracted_files_path\n",
    "\n",
    "# Example usage\n",
    "archive_path = 'path/to/archive.tar.gz'\n",
    "extracted_path = extract_files(archive_path)\n",
    "print('Extracted files path:', extracted_path)"
   ]
  },
  {
   "cell_type": "code",
   "execution_count": 1,
   "metadata": {},
   "outputs": [
    {
     "name": "stdout",
     "output_type": "stream",
     "text": [
      "Unsupported file extension\n",
      "Unsupported file extension\n",
      "Unsupported file extension\n",
      "Unsupported file extension\n",
      "Unsupported file extension\n",
      "Unsupported file extension\n",
      "Unsupported file extension\n",
      "Unsupported file extension\n",
      "Unsupported file extension\n",
      "Unsupported file extension\n",
      "Unsupported file extension\n",
      "Unsupported file extension\n",
      "Unsupported file extension\n",
      "Unsupported file extension\n",
      "Unsupported file extension\n",
      "Unsupported file extension\n"
     ]
    }
   ],
   "source": [
    "#Search for zips 0.5\n",
    "import os\n",
    "import shutil\n",
    "import tarfile\n",
    "import zipfile\n",
    "\n",
    "def extract_files(archive_path):\n",
    "    # Extract the file extension from the archive path\n",
    "    file_extension = os.path.splitext(archive_path)[1]\n",
    "\n",
    "    # Create the destination folder with the same name as the archive\n",
    "    destination_folder = os.path.splitext(archive_path)[0]\n",
    "    os.makedirs(destination_folder, exist_ok=True)\n",
    "\n",
    "    # Extract the files based on the file extension\n",
    "    if file_extension == '.tar.gz':\n",
    "        with tarfile.open(archive_path, 'r:gz') as tar:\n",
    "            tar.extractall(destination_folder)\n",
    "    elif file_extension == '.zip':\n",
    "        with zipfile.ZipFile(archive_path, 'r') as zip:\n",
    "            zip.extractall(destination_folder)\n",
    "    else:\n",
    "        print('Unsupported file extension')\n",
    "\n",
    "def extract_files_from_directory(directory):\n",
    "    # Iterate over all files in the directory\n",
    "    for filename in os.listdir(directory):\n",
    "        file_path = os.path.join(directory, filename)\n",
    "\n",
    "        # Check if the file is a compressed file\n",
    "        if filename.endswith('.tar.gz') or filename.endswith('.zip'):\n",
    "            extract_files(file_path)\n",
    "\n",
    "# Example usage\n",
    "directory = '/mnt/8AE0D819E0D80CF7/SIFS/Set1/folder-1'\n",
    "extract_files_from_directory(directory)\n",
    "directory2 = '/mnt/8AE0D819E0D80CF7/SIFS/Set1/folder-2'\n",
    "extract_files_from_directory(directory2)"
   ]
  },
  {
   "cell_type": "code",
   "execution_count": 5,
   "metadata": {},
   "outputs": [
    {
     "name": "stdout",
     "output_type": "stream",
     "text": [
      "Folder 1 Directories: ['EaseUS Partition Master 9.2.2 Technician Edition (FULL + Patch)', 'SR159360_ddn_showall_20210222-13_54_51.tar', 'SR170158_ddn_showall_20210902-13_20_38.tar']\n",
      "Folder 1 Files: ['/mnt/8AE0D819E0D80CF7/SIFS/Set1/folder-1/ddn-restapi-core-gs-4.2.1-3.3d53e4_dirty.noarch.rpm', '/mnt/8AE0D819E0D80CF7/SIFS/Set1/folder-1/08456059.pdf', '/mnt/8AE0D819E0D80CF7/SIFS/Set1/folder-1/20180006549.pdf', '/mnt/8AE0D819E0D80CF7/SIFS/Set1/folder-1/235434231_RAW_PAN.pix', '/mnt/8AE0D819E0D80CF7/SIFS/Set1/folder-1/235434251_RAW_PAN_LOG.txt', '/mnt/8AE0D819E0D80CF7/SIFS/Set1/folder-1/3.121-CVE_to_be_installed.txt', '/mnt/8AE0D819E0D80CF7/SIFS/Set1/folder-1/3.205-CVE_to_be_installed.txt', '/mnt/8AE0D819E0D80CF7/SIFS/Set1/folder-1/3.207-CVE_to_be_installed.txt', '/mnt/8AE0D819E0D80CF7/SIFS/Set1/folder-1/anaconda-ks.cfg', '/mnt/8AE0D819E0D80CF7/SIFS/Set1/folder-1/authorized_keys-4-8-17', '/mnt/8AE0D819E0D80CF7/SIFS/Set1/folder-1/BAND_RPC.txt', '/mnt/8AE0D819E0D80CF7/SIFS/Set1/folder-1/buttons.print.min.js', '/mnt/8AE0D819E0D80CF7/SIFS/Set1/folder-1/catalina.2023-07-14.log', '/mnt/8AE0D819E0D80CF7/SIFS/Set1/folder-1/catalina.2023-07-16.log', '/mnt/8AE0D819E0D80CF7/SIFS/Set1/folder-1/catalina.2023-07-23.log', '/mnt/8AE0D819E0D80CF7/SIFS/Set1/folder-1/catalina.2023-08-26.log', '/mnt/8AE0D819E0D80CF7/SIFS/Set1/folder-1/covid_excel_20-38.xlsx', '/mnt/8AE0D819E0D80CF7/SIFS/Set1/folder-1/EaseUS Partition Master 9.2.2 Technician Edition (FULL + Patch).zip', '/mnt/8AE0D819E0D80CF7/SIFS/Set1/folder-1/fio-3.1-1.el6.x86_64.rpm', '/mnt/8AE0D819E0D80CF7/SIFS/Set1/folder-1/gpfs.gss.pmsensors-4.2.3-5.el7.x86_64.rpm', '/mnt/8AE0D819E0D80CF7/SIFS/Set1/folder-1/gwm66c08.jpg', '/mnt/8AE0D819E0D80CF7/SIFS/Set1/folder-1/import CSV.txt', '/mnt/8AE0D819E0D80CF7/SIFS/Set1/folder-1/KKD geo tagging (1).xlsx', '/mnt/8AE0D819E0D80CF7/SIFS/Set1/folder-1/LS____.pdf', '/mnt/8AE0D819E0D80CF7/SIFS/Set1/folder-1/mmhealth.sh', '/mnt/8AE0D819E0D80CF7/SIFS/Set1/folder-1/mounted', '/mnt/8AE0D819E0D80CF7/SIFS/Set1/folder-1/NewGCPs.bk', '/mnt/8AE0D819E0D80CF7/SIFS/Set1/folder-1/SR159360_ddn_showall_20210222-13_54_51.tar.gz', '/mnt/8AE0D819E0D80CF7/SIFS/Set1/folder-1/SR170158_ddn_showall_20210902-13_20_38.tar.gz', '/mnt/8AE0D819E0D80CF7/SIFS/Set1/folder-1/syslog', '/mnt/8AE0D819E0D80CF7/SIFS/Set1/folder-1/table.sql']\n",
      "Folder 2 Directories: ['rpms.tar', 'SR170158_ddn_showall_20210902-13_25_08.tar', 'SR201434_ddn_showall_20230424-16_44_50.tar', 'EaseUS Partition Master 9.2.2 Technician Edition (FULL + Patch)', 'insight1-31-12-2021.tar', 'insight2-31-12-2021.tar', 'SR153362_ddn_showall_20201029-15_03_32.tar', 'SR153400_ddn_showall_20201025-11_49_30.tar', 'SR157135_ddn_showall_20210106-14_27_44.tar', 'SR158916_ddn_showall_20210207-12_39_53.tar', 'SR159360_ddn_showall_20210217-12_22_04.tar', 'SR159360_ddn_showall_20210222-13_54_51.tar', 'SR161449_ddn_showall_20210331-16_31_16.tar', 'SR170158_ddn_showall_20210902-12_51_23.tar', 'SR170158_ddn_showall_20210902-13_20_38.tar']\n",
      "Folder 2 Files: ['/mnt/8AE0D819E0D80CF7/SIFS/Set1/folder-2/08456059.pdf', '/mnt/8AE0D819E0D80CF7/SIFS/Set1/folder-2/09173237.pdf', '/mnt/8AE0D819E0D80CF7/SIFS/Set1/folder-2/109197_mmdf.out', '/mnt/8AE0D819E0D80CF7/SIFS/Set1/folder-2/109197_waiters.log', '/mnt/8AE0D819E0D80CF7/SIFS/Set1/folder-2/154625_NRSC-Vama_C0_sssa.log', '/mnt/8AE0D819E0D80CF7/SIFS/Set1/folder-2/154625_NRSC-Vama_C1_sss.log', '/mnt/8AE0D819E0D80CF7/SIFS/Set1/folder-2/154625_NRSC-Vama_C1_sssa.log', '/mnt/8AE0D819E0D80CF7/SIFS/Set1/folder-2/154625_sss.log', '/mnt/8AE0D819E0D80CF7/SIFS/Set1/folder-2/158916_nrsc_ibdiagnet', '/mnt/8AE0D819E0D80CF7/SIFS/Set1/folder-2/158916_nrsc_mmdiag_waiters', '/mnt/8AE0D819E0D80CF7/SIFS/Set1/folder-2/20180006549.pdf', '/mnt/8AE0D819E0D80CF7/SIFS/Set1/folder-2/235434211_RAW_PAN.pix', '/mnt/8AE0D819E0D80CF7/SIFS/Set1/folder-2/235434211_RAW_PAN_LOG.txt', '/mnt/8AE0D819E0D80CF7/SIFS/Set1/folder-2/235434221_RAW_PAN.pix', '/mnt/8AE0D819E0D80CF7/SIFS/Set1/folder-2/235434221_RAW_PAN_LOG.txt', '/mnt/8AE0D819E0D80CF7/SIFS/Set1/folder-2/235434231_RAW_PAN.pix', '/mnt/8AE0D819E0D80CF7/SIFS/Set1/folder-2/235434231_RAW_PAN_LOG.txt', '/mnt/8AE0D819E0D80CF7/SIFS/Set1/folder-2/235434241_RAW_PAN.pix', '/mnt/8AE0D819E0D80CF7/SIFS/Set1/folder-2/235434241_RAW_PAN_LOG.txt', '/mnt/8AE0D819E0D80CF7/SIFS/Set1/folder-2/235434251_RAW_PAN.pix', '/mnt/8AE0D819E0D80CF7/SIFS/Set1/folder-2/235434251_RAW_PAN_LOG.txt', '/mnt/8AE0D819E0D80CF7/SIFS/Set1/folder-2/235434261_RAW_PAN.pix', '/mnt/8AE0D819E0D80CF7/SIFS/Set1/folder-2/235434261_RAW_PAN_LOG.txt', '/mnt/8AE0D819E0D80CF7/SIFS/Set1/folder-2/235434271_RAW_PAN.pix', '/mnt/8AE0D819E0D80CF7/SIFS/Set1/folder-2/235434271_RAW_PAN_LOG.txt', '/mnt/8AE0D819E0D80CF7/SIFS/Set1/folder-2/fio.sh', '/mnt/8AE0D819E0D80CF7/SIFS/Set1/folder-2/flash2.sh', '/mnt/8AE0D819E0D80CF7/SIFS/Set1/folder-2/flash2_disk.lst', '/mnt/8AE0D819E0D80CF7/SIFS/Set1/folder-2/flash_S01_DMD203.lst', '/mnt/8AE0D819E0D80CF7/SIFS/Set1/folder-2/free.sh', '/mnt/8AE0D819E0D80CF7/SIFS/Set1/folder-2/FSSAI 1.pdf', '/mnt/8AE0D819E0D80CF7/SIFS/Set1/folder-2/gadm41_OMN_BUFF_10.dbf', '/mnt/8AE0D819E0D80CF7/SIFS/Set1/folder-2/gadm41_OMN_BUFF_10.prj', '/mnt/8AE0D819E0D80CF7/SIFS/Set1/folder-2/gadm41_OMN_BUFF_10.shp', '/mnt/8AE0D819E0D80CF7/SIFS/Set1/folder-2/gadm41_OMN_BUFF_10.shx', '/mnt/8AE0D819E0D80CF7/SIFS/Set1/folder-2/gcp-collection.report.txt', '/mnt/8AE0D819E0D80CF7/SIFS/Set1/folder-2/gcp-collection_RAW_PAN-GCP.bk', '/mnt/8AE0D819E0D80CF7/SIFS/Set1/folder-2/gcp-collection_RAW_PAN-GCP.prj', '/mnt/8AE0D819E0D80CF7/SIFS/Set1/folder-2/gcp-collection_RAW_PAN.prj', '/mnt/8AE0D819E0D80CF7/SIFS/Set1/folder-2/gcp-collection_RAW_PAN.prj.refhash.txt', '/mnt/8AE0D819E0D80CF7/SIFS/Set1/folder-2/gcp-collection_RAW_PAN.prj.summary.pix', '/mnt/8AE0D819E0D80CF7/SIFS/Set1/folder-2/gcp-collection_RAW_PAN.prj.summary.txt', '/mnt/8AE0D819E0D80CF7/SIFS/Set1/folder-2/geth.pdf', '/mnt/8AE0D819E0D80CF7/SIFS/Set1/folder-2/gpfs.base-4.2.3-0.x86_64.rpm', '/mnt/8AE0D819E0D80CF7/SIFS/Set1/folder-2/gpfs.docs-4.2.3-0.noarch.rpm', '/mnt/8AE0D819E0D80CF7/SIFS/Set1/folder-2/gpfs.ext-4.2.3-0.x86_64.rpm', '/mnt/8AE0D819E0D80CF7/SIFS/Set1/folder-2/gpfs.gpl-4.2.3-0.noarch.rpm', '/mnt/8AE0D819E0D80CF7/SIFS/Set1/folder-2/gpfs.gplbin-3.10.0-1062.4.1.el7.x86_64-4.2.3-21.x86_64.rpm', '/mnt/8AE0D819E0D80CF7/SIFS/Set1/folder-2/gpfs.gplbin-3.10.0-327.el7.x86_64-4.2.3-0.x86_64.rpm', '/mnt/8AE0D819E0D80CF7/SIFS/Set1/folder-2/gpfs.gskit-8.0.50-75.x86_64.rpm', '/mnt/8AE0D819E0D80CF7/SIFS/Set1/folder-2/gpfs.gss.pmsensors-4.2.3-5.el7.x86_64.rpm', '/mnt/8AE0D819E0D80CF7/SIFS/Set1/folder-2/gpfs.license.std-4.2.3-5.x86_64.rpm', '/mnt/8AE0D819E0D80CF7/SIFS/Set1/folder-2/gpfs.msg.en_US-4.2.3-0.noarch.rpm', '/mnt/8AE0D819E0D80CF7/SIFS/Set1/folder-2/output_image_status.txt', '/mnt/8AE0D819E0D80CF7/SIFS/Set1/folder-2/p1.js', '/mnt/8AE0D819E0D80CF7/SIFS/Set1/folder-2/p2.html', '/mnt/8AE0D819E0D80CF7/SIFS/Set1/folder-2/pam_krb5-2.4.8-4.el7.x86_64.rpm', '/mnt/8AE0D819E0D80CF7/SIFS/Set1/folder-2/Paper-Jones-Karen-Blockchain-Technology-–-Understanding-its-Place-in-Space (1).pdf', '/mnt/8AE0D819E0D80CF7/SIFS/Set1/folder-2/paper.docx', '/mnt/8AE0D819E0D80CF7/SIFS/Set1/folder-2/pass.txt', '/mnt/8AE0D819E0D80CF7/SIFS/Set1/folder-2/RAdv_5_2021.pdf', '/mnt/8AE0D819E0D80CF7/SIFS/Set1/folder-2/RC System details.docx', '/mnt/8AE0D819E0D80CF7/SIFS/Set1/folder-2/Results_2021-10-05_16-29-16', '/mnt/8AE0D819E0D80CF7/SIFS/Set1/folder-2/roltagxl2015.h2h', '/mnt/8AE0D819E0D80CF7/SIFS/Set1/folder-2/roltagxl2017.h2h', '/mnt/8AE0D819E0D80CF7/SIFS/Set1/folder-2/rpms.tar.gz', '/mnt/8AE0D819E0D80CF7/SIFS/Set1/folder-2/s40965-018-0050-y (1).pdf', '/mnt/8AE0D819E0D80CF7/SIFS/Set1/folder-2/SanDisk_lightning2_LTxxxx0_P405.DDN', '/mnt/8AE0D819E0D80CF7/SIFS/Set1/folder-2/sas5.sh', '/mnt/8AE0D819E0D80CF7/SIFS/Set1/folder-2/Screen-Shot-2017-03-28-at-4.56.00-PM-775x223.webp', '/mnt/8AE0D819E0D80CF7/SIFS/Set1/folder-2/screenlog.0', '/mnt/8AE0D819E0D80CF7/SIFS/Set1/folder-2/screenshot.PNG', '/mnt/8AE0D819E0D80CF7/SIFS/Set1/folder-2/catalina.2023-07-11.log', '/mnt/8AE0D819E0D80CF7/SIFS/Set1/folder-2/catalina.2023-07-12.log', '/mnt/8AE0D819E0D80CF7/SIFS/Set1/folder-2/catalina.2023-07-14.log', '/mnt/8AE0D819E0D80CF7/SIFS/Set1/folder-2/catalina.2023-07-15.log', '/mnt/8AE0D819E0D80CF7/SIFS/Set1/folder-2/catalina.2023-07-16.log', '/mnt/8AE0D819E0D80CF7/SIFS/Set1/folder-2/catalina.2023-07-22.log', '/mnt/8AE0D819E0D80CF7/SIFS/Set1/folder-2/catalina.2023-07-23.log', '/mnt/8AE0D819E0D80CF7/SIFS/Set1/folder-2/catalina.2023-07-29.log', '/mnt/8AE0D819E0D80CF7/SIFS/Set1/folder-2/catalina.2023-07-30.log', '/mnt/8AE0D819E0D80CF7/SIFS/Set1/folder-2/catalina.2023-08-03.log', '/mnt/8AE0D819E0D80CF7/SIFS/Set1/folder-2/catalina.2023-08-05.log', '/mnt/8AE0D819E0D80CF7/SIFS/Set1/folder-2/catalina.2023-08-06.log', '/mnt/8AE0D819E0D80CF7/SIFS/Set1/folder-2/catalina.2023-08-12.log', '/mnt/8AE0D819E0D80CF7/SIFS/Set1/folder-2/catalina.2023-08-13.log', '/mnt/8AE0D819E0D80CF7/SIFS/Set1/folder-2/catalina.2023-08-15.log', '/mnt/8AE0D819E0D80CF7/SIFS/Set1/folder-2/catalina.2023-08-19.log', '/mnt/8AE0D819E0D80CF7/SIFS/Set1/folder-2/25-mar-2021-date-check-output', '/mnt/8AE0D819E0D80CF7/SIFS/Set1/folder-2/catalina.2023-07-10.log', '/mnt/8AE0D819E0D80CF7/SIFS/Set1/folder-2/catalina.2023-08-20.log', '/mnt/8AE0D819E0D80CF7/SIFS/Set1/folder-2/client-rpms-upgrade-withgpl.tar', '/mnt/8AE0D819E0D80CF7/SIFS/Set1/folder-2/fio-3.1-1.el6.x86_64.rpm', '/mnt/8AE0D819E0D80CF7/SIFS/Set1/folder-2/gpfs01_fio.txt', '/mnt/8AE0D819E0D80CF7/SIFS/Set1/folder-2/insight2-31-12-2021.tar.gz', '/mnt/8AE0D819E0D80CF7/SIFS/Set1/folder-2/LS____.pdf', '/mnt/8AE0D819E0D80CF7/SIFS/Set1/folder-2/output_dodging_points.pix', '/mnt/8AE0D819E0D80CF7/SIFS/Set1/folder-2/seqread.fio', '/mnt/8AE0D819E0D80CF7/SIFS/Set1/folder-2/SR170158_ddn_showall_20210902-13_20_38.tar.gz', '/mnt/8AE0D819E0D80CF7/SIFS/Set1/folder-2/intermediate.crt', '/mnt/8AE0D819E0D80CF7/SIFS/Set1/folder-2/iperf-2.0.8-1.el7.x86_64.rpm', '/mnt/8AE0D819E0D80CF7/SIFS/Set1/folder-2/Jones_Blockchain_03052020 (1).pdf', '/mnt/8AE0D819E0D80CF7/SIFS/Set1/folder-2/jps.backup', '/mnt/8AE0D819E0D80CF7/SIFS/Set1/folder-2/KKD geo tagging (1).xlsx', '/mnt/8AE0D819E0D80CF7/SIFS/Set1/folder-2/KKD geo tagging (2).xlsx', '/mnt/8AE0D819E0D80CF7/SIFS/Set1/folder-2/KKD geo tagging (3).xlsx', '/mnt/8AE0D819E0D80CF7/SIFS/Set1/folder-2/KKD geo tagging.xlsx', '/mnt/8AE0D819E0D80CF7/SIFS/Set1/folder-2/kmltest.png', '/mnt/8AE0D819E0D80CF7/SIFS/Set1/folder-2/known_hosts-08-05-17', '/mnt/8AE0D819E0D80CF7/SIFS/Set1/folder-2/linux-nodes.txt', '/mnt/8AE0D819E0D80CF7/SIFS/Set1/folder-2/linux_nodes', '/mnt/8AE0D819E0D80CF7/SIFS/Set1/folder-2/Listing_Schedule_1.pdf', '/mnt/8AE0D819E0D80CF7/SIFS/Set1/folder-2/local_server_storage_check.sh', '/mnt/8AE0D819E0D80CF7/SIFS/Set1/folder-2/local_server_storage_check.txt', '/mnt/8AE0D819E0D80CF7/SIFS/Set1/folder-2/local_storage_check.sh', '/mnt/8AE0D819E0D80CF7/SIFS/Set1/folder-2/lrocall.txt', '/mnt/8AE0D819E0D80CF7/SIFS/Set1/folder-2/LS____ (1).pdf', '/mnt/8AE0D819E0D80CF7/SIFS/Set1/folder-2/LS____ (2).pdf', '/mnt/8AE0D819E0D80CF7/SIFS/Set1/folder-2/SR170158_ddn_showall_20210902-13_25_08.tar.gz', '/mnt/8AE0D819E0D80CF7/SIFS/Set1/folder-2/SR201434_ddn_showall_20230424-16_44_50.tar.gz', '/mnt/8AE0D819E0D80CF7/SIFS/Set1/folder-2/ssh.sh', '/mnt/8AE0D819E0D80CF7/SIFS/Set1/folder-2/subset-1of3.prj', '/mnt/8AE0D819E0D80CF7/SIFS/Set1/folder-2/subset-1of3.prj.report.txt', '/mnt/8AE0D819E0D80CF7/SIFS/Set1/folder-2/subset-1of3_prj_TPs.txt', '/mnt/8AE0D819E0D80CF7/SIFS/Set1/folder-2/subset-2of3.prj', '/mnt/8AE0D819E0D80CF7/SIFS/Set1/folder-2/subset-2of3.prj.report.txt', '/mnt/8AE0D819E0D80CF7/SIFS/Set1/folder-2/subset-2of3_prj_TPs.txt', '/mnt/8AE0D819E0D80CF7/SIFS/Set1/folder-2/subset-3of3.prj', '/mnt/8AE0D819E0D80CF7/SIFS/Set1/folder-2/subset-3of3.prj.report.txt', '/mnt/8AE0D819E0D80CF7/SIFS/Set1/folder-2/subset-3of3_prj_TPs.txt', '/mnt/8AE0D819E0D80CF7/SIFS/Set1/folder-2/sysfsutils-2.1.0-16.el7.x86_64.rpm', '/mnt/8AE0D819E0D80CF7/SIFS/Set1/folder-2/syslog', '/mnt/8AE0D819E0D80CF7/SIFS/Set1/folder-2/table.sql', '/mnt/8AE0D819E0D80CF7/SIFS/Set1/folder-2/test.go', '/mnt/8AE0D819E0D80CF7/SIFS/Set1/folder-2/typescript', '/mnt/8AE0D819E0D80CF7/SIFS/Set1/folder-2/uptime-script-test.sh', '/mnt/8AE0D819E0D80CF7/SIFS/Set1/folder-2/whitepaper-200320.pdf', '/mnt/8AE0D819E0D80CF7/SIFS/Set1/folder-2/workstation1.bhuvannrsc.com', '/mnt/8AE0D819E0D80CF7/SIFS/Set1/folder-2/xrdp-0.9.15-3.el7.x86_64.rpm', '/mnt/8AE0D819E0D80CF7/SIFS/Set1/folder-2/clustersync.txt', '/mnt/8AE0D819E0D80CF7/SIFS/Set1/folder-2/copy', '/mnt/8AE0D819E0D80CF7/SIFS/Set1/folder-2/Counters.rar', '/mnt/8AE0D819E0D80CF7/SIFS/Set1/folder-2/covid_excel_19-38.xlsx', '/mnt/8AE0D819E0D80CF7/SIFS/Set1/folder-2/covid_excel_20-38.xlsx', '/mnt/8AE0D819E0D80CF7/SIFS/Set1/folder-2/current.xlsx', '/mnt/8AE0D819E0D80CF7/SIFS/Set1/folder-2/date-check 1.sh', '/mnt/8AE0D819E0D80CF7/SIFS/Set1/folder-2/date-check.sh', '/mnt/8AE0D819E0D80CF7/SIFS/Set1/folder-2/date-output-06-nov-2020', '/mnt/8AE0D819E0D80CF7/SIFS/Set1/folder-2/date-output-compare', '/mnt/8AE0D819E0D80CF7/SIFS/Set1/folder-2/ddn-gs-api-4.2.1-21.1.ca4af0.noarch.rpm', '/mnt/8AE0D819E0D80CF7/SIFS/Set1/folder-2/ddn-gs-api-4.2.1-3.3d53e4_dirty.noarch.rpm', '/mnt/8AE0D819E0D80CF7/SIFS/Set1/folder-2/ddn-gs-api-4.2.1-4.569132.noarch.rpm', '/mnt/8AE0D819E0D80CF7/SIFS/Set1/folder-2/ddn-gs-api-4.2.1-5.083205.noarch.rpm', '/mnt/8AE0D819E0D80CF7/SIFS/Set1/folder-2/ddn-restapi-core-gs-4.2.1-3.3d53e4_dirty.noarch.rpm', '/mnt/8AE0D819E0D80CF7/SIFS/Set1/folder-2/ddn-restapi-core-gs-4.2.1-5.083205.noarch.rpm', '/mnt/8AE0D819E0D80CF7/SIFS/Set1/folder-2/ddn-restapi-master-gs-4.2.1-3.3d53e4_dirty.noarch.rpm', '/mnt/8AE0D819E0D80CF7/SIFS/Set1/folder-2/Details.id', '/mnt/8AE0D819E0D80CF7/SIFS/Set1/folder-2/Details2017.id', '/mnt/8AE0D819E0D80CF7/SIFS/Set1/folder-2/Dump.txt', '/mnt/8AE0D819E0D80CF7/SIFS/Set1/folder-2/EaseUS Partition Master 9.2.2 Technician Edition (FULL + Patch).zip', '/mnt/8AE0D819E0D80CF7/SIFS/Set1/folder-2/fbloc-03-497985.pdf', '/mnt/8AE0D819E0D80CF7/SIFS/Set1/folder-2/feb14-history', '/mnt/8AE0D819E0D80CF7/SIFS/Set1/folder-2/file.txt', '/mnt/8AE0D819E0D80CF7/SIFS/Set1/folder-2/filecount.sh', '/mnt/8AE0D819E0D80CF7/SIFS/Set1/folder-2/fio-2.2.8-2.el7.x86_64.rpm', '/mnt/8AE0D819E0D80CF7/SIFS/Set1/folder-2/3.205-CVE_to_be_installed.txt', '/mnt/8AE0D819E0D80CF7/SIFS/Set1/folder-2/3.206-CVE_to_be_installed.txt', '/mnt/8AE0D819E0D80CF7/SIFS/Set1/folder-2/3.207-CVE_to_be_installed.txt', '/mnt/8AE0D819E0D80CF7/SIFS/Set1/folder-2/3.208-CVE_to_be_installed.txt', '/mnt/8AE0D819E0D80CF7/SIFS/Set1/folder-2/a4 (1).pdf', '/mnt/8AE0D819E0D80CF7/SIFS/Set1/folder-2/a4.pdf', '/mnt/8AE0D819E0D80CF7/SIFS/Set1/folder-2/abc123', '/mnt/8AE0D819E0D80CF7/SIFS/Set1/folder-2/all.waiters2.txt', '/mnt/8AE0D819E0D80CF7/SIFS/Set1/folder-2/anaconda-ks.cfg', '/mnt/8AE0D819E0D80CF7/SIFS/Set1/folder-2/authorized_keys', '/mnt/8AE0D819E0D80CF7/SIFS/Set1/folder-2/authorized_keys-08-05-17', '/mnt/8AE0D819E0D80CF7/SIFS/Set1/folder-2/authorized_keys-4-8-17', '/mnt/8AE0D819E0D80CF7/SIFS/Set1/folder-2/BAND.dbf', '/mnt/8AE0D819E0D80CF7/SIFS/Set1/folder-2/BAND.prj', '/mnt/8AE0D819E0D80CF7/SIFS/Set1/folder-2/BAND.shp', '/mnt/8AE0D819E0D80CF7/SIFS/Set1/folder-2/BAND.shx', '/mnt/8AE0D819E0D80CF7/SIFS/Set1/folder-2/BAND_META.txt', '/mnt/8AE0D819E0D80CF7/SIFS/Set1/folder-2/BAND_META.xml', '/mnt/8AE0D819E0D80CF7/SIFS/Set1/folder-2/BAND_RPC.txt', '/mnt/8AE0D819E0D80CF7/SIFS/Set1/folder-2/bootstrap.min.js', '/mnt/8AE0D819E0D80CF7/SIFS/Set1/folder-2/buttons.html5.min.js', '/mnt/8AE0D819E0D80CF7/SIFS/Set1/folder-2/buttons.print.min.js', '/mnt/8AE0D819E0D80CF7/SIFS/Set1/folder-2/CA2906EN.pdf', '/mnt/8AE0D819E0D80CF7/SIFS/Set1/folder-2/Capture1.PNG', '/mnt/8AE0D819E0D80CF7/SIFS/Set1/folder-2/catalina.2023-07-02.log', '/mnt/8AE0D819E0D80CF7/SIFS/Set1/folder-2/catalina.2023-07-03.log', '/mnt/8AE0D819E0D80CF7/SIFS/Set1/folder-2/catalina.2023-07-08.log', '/mnt/8AE0D819E0D80CF7/SIFS/Set1/folder-2/catalina.2023-07-09.log', '/mnt/8AE0D819E0D80CF7/SIFS/Set1/folder-2/gpfs01_fio.txt_old', '/mnt/8AE0D819E0D80CF7/SIFS/Set1/folder-2/gpfs01_fio_32.txt', '/mnt/8AE0D819E0D80CF7/SIFS/Set1/folder-2/gpfs01_fio_32_1M.txt', '/mnt/8AE0D819E0D80CF7/SIFS/Set1/folder-2/gpfs01_fio_32_1M_C2.txt', '/mnt/8AE0D819E0D80CF7/SIFS/Set1/folder-2/gpfs01_fio_8.txt', '/mnt/8AE0D819E0D80CF7/SIFS/Set1/folder-2/gpfs4.2.3-5-clientrpms.tar', '/mnt/8AE0D819E0D80CF7/SIFS/Set1/folder-2/gs-insightrpm.tar', '/mnt/8AE0D819E0D80CF7/SIFS/Set1/folder-2/gwm57h07.jpg', '/mnt/8AE0D819E0D80CF7/SIFS/Set1/folder-2/gwm66c08.jpg', '/mnt/8AE0D819E0D80CF7/SIFS/Set1/folder-2/gwm66d05.jpg', '/mnt/8AE0D819E0D80CF7/SIFS/Set1/folder-2/ib-mellanox-installation-2017-07-16_13-40-35.log', '/mnt/8AE0D819E0D80CF7/SIFS/Set1/folder-2/ib-mellanox-installation-2017-10-04_02-32-02.log', '/mnt/8AE0D819E0D80CF7/SIFS/Set1/folder-2/ib-mellanox-installation-2017-11-04_14-36-03.log', '/mnt/8AE0D819E0D80CF7/SIFS/Set1/folder-2/ib-mellanox-installation-2020-04-25_02-46-48.log', '/mnt/8AE0D819E0D80CF7/SIFS/Set1/folder-2/ib-mellanox-iser-patch-installation-2020-04-25_02-53-15.log', '/mnt/8AE0D819E0D80CF7/SIFS/Set1/folder-2/ib-mellanox-srp-patch-installation-2020-04-25_02-53-05.log', '/mnt/8AE0D819E0D80CF7/SIFS/Set1/folder-2/IGCAR General Awareness Model Question Paper.pdf', '/mnt/8AE0D819E0D80CF7/SIFS/Set1/folder-2/import CSV.txt', '/mnt/8AE0D819E0D80CF7/SIFS/Set1/folder-2/insight1-31-12-2021.tar.gz', '/mnt/8AE0D819E0D80CF7/SIFS/Set1/folder-2/merged-subsets.prj', '/mnt/8AE0D819E0D80CF7/SIFS/Set1/folder-2/merged-subsets.prj.report.txt', '/mnt/8AE0D819E0D80CF7/SIFS/Set1/folder-2/merged-subsets.txt.mfile', '/mnt/8AE0D819E0D80CF7/SIFS/Set1/folder-2/mmhealth.sh', '/mnt/8AE0D819E0D80CF7/SIFS/Set1/folder-2/mounted', '/mnt/8AE0D819E0D80CF7/SIFS/Set1/folder-2/NASA SBIR &amp; STTR Program Homepage - Distributed Digital Ledger for Aerospace Applications - 2019-01-09.pdf', '/mnt/8AE0D819E0D80CF7/SIFS/Set1/folder-2/new 1.txt', '/mnt/8AE0D819E0D80CF7/SIFS/Set1/folder-2/new 2.txt', '/mnt/8AE0D819E0D80CF7/SIFS/Set1/folder-2/New Text Document.txt', '/mnt/8AE0D819E0D80CF7/SIFS/Set1/folder-2/NewGCPs.bk', '/mnt/8AE0D819E0D80CF7/SIFS/Set1/folder-2/NewGCPs.prj', '/mnt/8AE0D819E0D80CF7/SIFS/Set1/folder-2/nodelist.txt', '/mnt/8AE0D819E0D80CF7/SIFS/Set1/folder-2/nodelistnew.txt', '/mnt/8AE0D819E0D80CF7/SIFS/Set1/folder-2/nsd-tmp.txt', '/mnt/8AE0D819E0D80CF7/SIFS/Set1/folder-2/oman-aoi.aoi', '/mnt/8AE0D819E0D80CF7/SIFS/Set1/folder-2/output_cutline_preview.pix', '/mnt/8AE0D819E0D80CF7/SIFS/Set1/folder-2/output_cutline_topology.pix', '/mnt/8AE0D819E0D80CF7/SIFS/Set1/folder-2/output_data_extents.pix', '/mnt/8AE0D819E0D80CF7/SIFS/Set1/folder-2/seqwrite.fio', '/mnt/8AE0D819E0D80CF7/SIFS/Set1/folder-2/server.js', '/mnt/8AE0D819E0D80CF7/SIFS/Set1/folder-2/server1.crt', '/mnt/8AE0D819E0D80CF7/SIFS/Set1/folder-2/snap1.PNG', '/mnt/8AE0D819E0D80CF7/SIFS/Set1/folder-2/Spectrum_Scale_Standard-4.2.1.1-x86_64-Windows-install.zip.md5', '/mnt/8AE0D819E0D80CF7/SIFS/Set1/folder-2/SR153362_ddn_showall_20201029-15_03_32.tar.gz', '/mnt/8AE0D819E0D80CF7/SIFS/Set1/folder-2/SR153400_ddn_showall_20201025-11_49_30.tar.gz', '/mnt/8AE0D819E0D80CF7/SIFS/Set1/folder-2/SR157135_ddn_showall_20210106-14_27_44.tar.gz', '/mnt/8AE0D819E0D80CF7/SIFS/Set1/folder-2/SR158916_ddn_showall_20210207-12_39_53.tar.gz', '/mnt/8AE0D819E0D80CF7/SIFS/Set1/folder-2/SR159360_ddn_showall_20210217-12_22_04.tar.gz', '/mnt/8AE0D819E0D80CF7/SIFS/Set1/folder-2/SR159360_ddn_showall_20210222-13_54_51.tar.gz', '/mnt/8AE0D819E0D80CF7/SIFS/Set1/folder-2/SR161449_ddn_showall_20210331-16_31_16.tar.gz', '/mnt/8AE0D819E0D80CF7/SIFS/Set1/folder-2/SR170158_ddn_showall_20210902-12_51_23.tar.gz', '/mnt/8AE0D819E0D80CF7/SIFS/Set1/folder-2/catalina.2023-08-26.log', '/mnt/8AE0D819E0D80CF7/SIFS/Set1/folder-2/catalina.2023-08-27.log', '/mnt/8AE0D819E0D80CF7/SIFS/Set1/folder-2/catalina.2023-09-02.log', '/mnt/8AE0D819E0D80CF7/SIFS/Set1/folder-2/catalina.2023-09-03.log', '/mnt/8AE0D819E0D80CF7/SIFS/Set1/folder-2/catalina.2023-09-07.log', '/mnt/8AE0D819E0D80CF7/SIFS/Set1/folder-2/catalina.2023-09-09.log', '/mnt/8AE0D819E0D80CF7/SIFS/Set1/folder-2/catalina.2023-09-10.log', '/mnt/8AE0D819E0D80CF7/SIFS/Set1/folder-2/catalina.2023-09-15.log', '/mnt/8AE0D819E0D80CF7/SIFS/Set1/folder-2/catalina.2023-09-16.log', '/mnt/8AE0D819E0D80CF7/SIFS/Set1/folder-2/catalina.2023-09-17.log', '/mnt/8AE0D819E0D80CF7/SIFS/Set1/folder-2/catalina.2023-09-18.log', '/mnt/8AE0D819E0D80CF7/SIFS/Set1/folder-2/catalina.2023-09-19.log', '/mnt/8AE0D819E0D80CF7/SIFS/Set1/folder-2/catalina.2023-09-23.log', '/mnt/8AE0D819E0D80CF7/SIFS/Set1/folder-2/catalina.2023-09-24.log', '/mnt/8AE0D819E0D80CF7/SIFS/Set1/folder-2/catalina.2023-09-28.log', '/mnt/8AE0D819E0D80CF7/SIFS/Set1/folder-2/catalina.2023-09-29.log', '/mnt/8AE0D819E0D80CF7/SIFS/Set1/folder-2/catalina.2023-09-30.log', '/mnt/8AE0D819E0D80CF7/SIFS/Set1/folder-2/Chassis Temp & Fan.txt']\n"
     ]
    }
   ],
   "source": [
    "#Step1\n",
    "import os\n",
    "\n",
    "def get_directories_and_files(folder_path):\n",
    "    directories = []\n",
    "    files = []\n",
    "    \n",
    "    for entry in os.scandir(folder_path):\n",
    "        if entry.is_dir():\n",
    "            directories.append(entry.name)\n",
    "        else:\n",
    "            absolute_path = os.path.join(folder_path, entry.name)\n",
    "            files.append(absolute_path)\n",
    "    \n",
    "    return directories, files\n",
    "\n",
    "folder1_path = '/mnt/8AE0D819E0D80CF7/SIFS/Set1/folder-1'\n",
    "folder2_path = '/mnt/8AE0D819E0D80CF7/SIFS/Set1/folder-2'\n",
    "\n",
    "folder1_directories, folder1_files = get_directories_and_files(folder1_path)\n",
    "folder2_directories, folder2_files = get_directories_and_files(folder2_path)\n",
    "\n",
    "print(\"Folder 1 Directories:\", folder1_directories)\n",
    "print(\"Folder 1 Files:\", folder1_files)\n",
    "\n",
    "print(\"Folder 2 Directories:\", folder2_directories)\n",
    "print(\"Folder 2 Files:\", folder2_files)"
   ]
  },
  {
   "cell_type": "code",
   "execution_count": 6,
   "metadata": {},
   "outputs": [],
   "source": [
    "# File Name List\n",
    "file_names = [\"topic13.py\", \"trial2.py\"]"
   ]
  },
  {
   "cell_type": "code",
   "execution_count": 6,
   "metadata": {},
   "outputs": [
    {
     "name": "stdout",
     "output_type": "stream",
     "text": [
      "{'/mnt/8AE0D819E0D80CF7/SIFS/Set1/folder-1/ddn-restapi-core-gs-4.2.1-3.3d53e4_dirty.noarch.rpm': 3425283162, '/mnt/8AE0D819E0D80CF7/SIFS/Set1/folder-1/08456059.pdf': 3390522511, '/mnt/8AE0D819E0D80CF7/SIFS/Set1/folder-1/20180006549.pdf': 3788199420, '/mnt/8AE0D819E0D80CF7/SIFS/Set1/folder-1/235434231_RAW_PAN.pix': 2653310308, '/mnt/8AE0D819E0D80CF7/SIFS/Set1/folder-1/235434251_RAW_PAN_LOG.txt': 3808259856, '/mnt/8AE0D819E0D80CF7/SIFS/Set1/folder-1/3.121-CVE_to_be_installed.txt': 2512722902, '/mnt/8AE0D819E0D80CF7/SIFS/Set1/folder-1/3.205-CVE_to_be_installed.txt': 1989426698, '/mnt/8AE0D819E0D80CF7/SIFS/Set1/folder-1/3.207-CVE_to_be_installed.txt': 2118820843, '/mnt/8AE0D819E0D80CF7/SIFS/Set1/folder-1/anaconda-ks.cfg': 484696585, '/mnt/8AE0D819E0D80CF7/SIFS/Set1/folder-1/authorized_keys-4-8-17': 1108295982, '/mnt/8AE0D819E0D80CF7/SIFS/Set1/folder-1/BAND_RPC.txt': 2991846822, '/mnt/8AE0D819E0D80CF7/SIFS/Set1/folder-1/buttons.print.min.js': 1213417362, '/mnt/8AE0D819E0D80CF7/SIFS/Set1/folder-1/catalina.2023-07-14.log': 528559328, '/mnt/8AE0D819E0D80CF7/SIFS/Set1/folder-1/catalina.2023-07-16.log': 778446355, '/mnt/8AE0D819E0D80CF7/SIFS/Set1/folder-1/catalina.2023-07-23.log': 3658868898, '/mnt/8AE0D819E0D80CF7/SIFS/Set1/folder-1/catalina.2023-08-26.log': 74896376, '/mnt/8AE0D819E0D80CF7/SIFS/Set1/folder-1/covid_excel_20-38.xlsx': 3843325172, '/mnt/8AE0D819E0D80CF7/SIFS/Set1/folder-1/EaseUS Partition Master 9.2.2 Technician Edition (FULL + Patch).zip': 1794788349, '/mnt/8AE0D819E0D80CF7/SIFS/Set1/folder-1/fio-3.1-1.el6.x86_64.rpm': 3072141162, '/mnt/8AE0D819E0D80CF7/SIFS/Set1/folder-1/gpfs.gss.pmsensors-4.2.3-5.el7.x86_64.rpm': 2040079156, '/mnt/8AE0D819E0D80CF7/SIFS/Set1/folder-1/gwm66c08.jpg': 225652811, '/mnt/8AE0D819E0D80CF7/SIFS/Set1/folder-1/import CSV.txt': 1334132418, '/mnt/8AE0D819E0D80CF7/SIFS/Set1/folder-1/KKD geo tagging (1).xlsx': 3671584964, '/mnt/8AE0D819E0D80CF7/SIFS/Set1/folder-1/LS____.pdf': 271504327, '/mnt/8AE0D819E0D80CF7/SIFS/Set1/folder-1/mmhealth.sh': 2160110768, '/mnt/8AE0D819E0D80CF7/SIFS/Set1/folder-1/mounted': 150392954, '/mnt/8AE0D819E0D80CF7/SIFS/Set1/folder-1/NewGCPs.bk': 4076018260, '/mnt/8AE0D819E0D80CF7/SIFS/Set1/folder-1/SR159360_ddn_showall_20210222-13_54_51.tar.gz': 1258920458, '/mnt/8AE0D819E0D80CF7/SIFS/Set1/folder-1/SR170158_ddn_showall_20210902-13_20_38.tar.gz': 429421887, '/mnt/8AE0D819E0D80CF7/SIFS/Set1/folder-1/syslog': 4103245484, '/mnt/8AE0D819E0D80CF7/SIFS/Set1/folder-1/table.sql': 1543737023}\n",
      "{'/mnt/8AE0D819E0D80CF7/SIFS/Set1/folder-2/08456059.pdf': 3390522511, '/mnt/8AE0D819E0D80CF7/SIFS/Set1/folder-2/09173237.pdf': 2787799791, '/mnt/8AE0D819E0D80CF7/SIFS/Set1/folder-2/109197_mmdf.out': 593981792, '/mnt/8AE0D819E0D80CF7/SIFS/Set1/folder-2/109197_waiters.log': 3330679742, '/mnt/8AE0D819E0D80CF7/SIFS/Set1/folder-2/154625_NRSC-Vama_C0_sssa.log': 2814101232, '/mnt/8AE0D819E0D80CF7/SIFS/Set1/folder-2/154625_NRSC-Vama_C1_sss.log': 490287627, '/mnt/8AE0D819E0D80CF7/SIFS/Set1/folder-2/154625_NRSC-Vama_C1_sssa.log': 3761808776, '/mnt/8AE0D819E0D80CF7/SIFS/Set1/folder-2/154625_sss.log': 1295240070, '/mnt/8AE0D819E0D80CF7/SIFS/Set1/folder-2/158916_nrsc_ibdiagnet': 2703221533, '/mnt/8AE0D819E0D80CF7/SIFS/Set1/folder-2/158916_nrsc_mmdiag_waiters': 2133108983, '/mnt/8AE0D819E0D80CF7/SIFS/Set1/folder-2/20180006549.pdf': 3788199420, '/mnt/8AE0D819E0D80CF7/SIFS/Set1/folder-2/235434211_RAW_PAN.pix': 45356232, '/mnt/8AE0D819E0D80CF7/SIFS/Set1/folder-2/235434211_RAW_PAN_LOG.txt': 3113843140, '/mnt/8AE0D819E0D80CF7/SIFS/Set1/folder-2/235434221_RAW_PAN.pix': 4231965203, '/mnt/8AE0D819E0D80CF7/SIFS/Set1/folder-2/235434221_RAW_PAN_LOG.txt': 940282750, '/mnt/8AE0D819E0D80CF7/SIFS/Set1/folder-2/235434231_RAW_PAN.pix': 2653310308, '/mnt/8AE0D819E0D80CF7/SIFS/Set1/folder-2/235434231_RAW_PAN_LOG.txt': 4279836712, '/mnt/8AE0D819E0D80CF7/SIFS/Set1/folder-2/235434241_RAW_PAN.pix': 2760112175, '/mnt/8AE0D819E0D80CF7/SIFS/Set1/folder-2/235434241_RAW_PAN_LOG.txt': 2386004411, '/mnt/8AE0D819E0D80CF7/SIFS/Set1/folder-2/235434251_RAW_PAN.pix': 3138297499, '/mnt/8AE0D819E0D80CF7/SIFS/Set1/folder-2/235434251_RAW_PAN_LOG.txt': 3808259856, '/mnt/8AE0D819E0D80CF7/SIFS/Set1/folder-2/235434261_RAW_PAN.pix': 2047364324, '/mnt/8AE0D819E0D80CF7/SIFS/Set1/folder-2/235434261_RAW_PAN_LOG.txt': 4090361761, '/mnt/8AE0D819E0D80CF7/SIFS/Set1/folder-2/235434271_RAW_PAN.pix': 3701349888, '/mnt/8AE0D819E0D80CF7/SIFS/Set1/folder-2/235434271_RAW_PAN_LOG.txt': 1805098264, '/mnt/8AE0D819E0D80CF7/SIFS/Set1/folder-2/fio.sh': 1663124608, '/mnt/8AE0D819E0D80CF7/SIFS/Set1/folder-2/flash2.sh': 4142048728, '/mnt/8AE0D819E0D80CF7/SIFS/Set1/folder-2/flash2_disk.lst': 482628461, '/mnt/8AE0D819E0D80CF7/SIFS/Set1/folder-2/flash_S01_DMD203.lst': 4198226380, '/mnt/8AE0D819E0D80CF7/SIFS/Set1/folder-2/free.sh': 1388781924, '/mnt/8AE0D819E0D80CF7/SIFS/Set1/folder-2/FSSAI 1.pdf': 900926710, '/mnt/8AE0D819E0D80CF7/SIFS/Set1/folder-2/gadm41_OMN_BUFF_10.dbf': 3840537302, '/mnt/8AE0D819E0D80CF7/SIFS/Set1/folder-2/gadm41_OMN_BUFF_10.prj': 2940436309, '/mnt/8AE0D819E0D80CF7/SIFS/Set1/folder-2/gadm41_OMN_BUFF_10.shp': 3581860901, '/mnt/8AE0D819E0D80CF7/SIFS/Set1/folder-2/gadm41_OMN_BUFF_10.shx': 2596426566, '/mnt/8AE0D819E0D80CF7/SIFS/Set1/folder-2/gcp-collection.report.txt': 3411475381, '/mnt/8AE0D819E0D80CF7/SIFS/Set1/folder-2/gcp-collection_RAW_PAN-GCP.bk': 999871408, '/mnt/8AE0D819E0D80CF7/SIFS/Set1/folder-2/gcp-collection_RAW_PAN-GCP.prj': 2354199426, '/mnt/8AE0D819E0D80CF7/SIFS/Set1/folder-2/gcp-collection_RAW_PAN.prj': 1599196400, '/mnt/8AE0D819E0D80CF7/SIFS/Set1/folder-2/gcp-collection_RAW_PAN.prj.refhash.txt': 3064888902, '/mnt/8AE0D819E0D80CF7/SIFS/Set1/folder-2/gcp-collection_RAW_PAN.prj.summary.pix': 2714597262, '/mnt/8AE0D819E0D80CF7/SIFS/Set1/folder-2/gcp-collection_RAW_PAN.prj.summary.txt': 4043622167, '/mnt/8AE0D819E0D80CF7/SIFS/Set1/folder-2/geth.pdf': 3399960822, '/mnt/8AE0D819E0D80CF7/SIFS/Set1/folder-2/gpfs.base-4.2.3-0.x86_64.rpm': 4074019080, '/mnt/8AE0D819E0D80CF7/SIFS/Set1/folder-2/gpfs.docs-4.2.3-0.noarch.rpm': 3218623738, '/mnt/8AE0D819E0D80CF7/SIFS/Set1/folder-2/gpfs.ext-4.2.3-0.x86_64.rpm': 570535660, '/mnt/8AE0D819E0D80CF7/SIFS/Set1/folder-2/gpfs.gpl-4.2.3-0.noarch.rpm': 2552421044, '/mnt/8AE0D819E0D80CF7/SIFS/Set1/folder-2/gpfs.gplbin-3.10.0-1062.4.1.el7.x86_64-4.2.3-21.x86_64.rpm': 319469234, '/mnt/8AE0D819E0D80CF7/SIFS/Set1/folder-2/gpfs.gplbin-3.10.0-327.el7.x86_64-4.2.3-0.x86_64.rpm': 4225725445, '/mnt/8AE0D819E0D80CF7/SIFS/Set1/folder-2/gpfs.gskit-8.0.50-75.x86_64.rpm': 3331373253, '/mnt/8AE0D819E0D80CF7/SIFS/Set1/folder-2/gpfs.gss.pmsensors-4.2.3-5.el7.x86_64.rpm': 2040079156, '/mnt/8AE0D819E0D80CF7/SIFS/Set1/folder-2/gpfs.license.std-4.2.3-5.x86_64.rpm': 1742809287, '/mnt/8AE0D819E0D80CF7/SIFS/Set1/folder-2/gpfs.msg.en_US-4.2.3-0.noarch.rpm': 2144136420, '/mnt/8AE0D819E0D80CF7/SIFS/Set1/folder-2/output_image_status.txt': 3906361700, '/mnt/8AE0D819E0D80CF7/SIFS/Set1/folder-2/p1.js': 1273040215, '/mnt/8AE0D819E0D80CF7/SIFS/Set1/folder-2/p2.html': 4065157310, '/mnt/8AE0D819E0D80CF7/SIFS/Set1/folder-2/pam_krb5-2.4.8-4.el7.x86_64.rpm': 3635726503, '/mnt/8AE0D819E0D80CF7/SIFS/Set1/folder-2/Paper-Jones-Karen-Blockchain-Technology-–-Understanding-its-Place-in-Space (1).pdf': 1195068396, '/mnt/8AE0D819E0D80CF7/SIFS/Set1/folder-2/paper.docx': 2104723344, '/mnt/8AE0D819E0D80CF7/SIFS/Set1/folder-2/pass.txt': 2636340736, '/mnt/8AE0D819E0D80CF7/SIFS/Set1/folder-2/RAdv_5_2021.pdf': 3098344249, '/mnt/8AE0D819E0D80CF7/SIFS/Set1/folder-2/RC System details.docx': 4262338619, '/mnt/8AE0D819E0D80CF7/SIFS/Set1/folder-2/Results_2021-10-05_16-29-16': 2319622452, '/mnt/8AE0D819E0D80CF7/SIFS/Set1/folder-2/roltagxl2015.h2h': 1047394457, '/mnt/8AE0D819E0D80CF7/SIFS/Set1/folder-2/roltagxl2017.h2h': 151568108, '/mnt/8AE0D819E0D80CF7/SIFS/Set1/folder-2/rpms.tar.gz': 3904245452, '/mnt/8AE0D819E0D80CF7/SIFS/Set1/folder-2/s40965-018-0050-y (1).pdf': 2917820628, '/mnt/8AE0D819E0D80CF7/SIFS/Set1/folder-2/SanDisk_lightning2_LTxxxx0_P405.DDN': 362428631, '/mnt/8AE0D819E0D80CF7/SIFS/Set1/folder-2/sas5.sh': 3385235849, '/mnt/8AE0D819E0D80CF7/SIFS/Set1/folder-2/Screen-Shot-2017-03-28-at-4.56.00-PM-775x223.webp': 1307087327, '/mnt/8AE0D819E0D80CF7/SIFS/Set1/folder-2/screenlog.0': 4193951839, '/mnt/8AE0D819E0D80CF7/SIFS/Set1/folder-2/screenshot.PNG': 3481066336, '/mnt/8AE0D819E0D80CF7/SIFS/Set1/folder-2/catalina.2023-07-11.log': 844035324, '/mnt/8AE0D819E0D80CF7/SIFS/Set1/folder-2/catalina.2023-07-12.log': 4276503787, '/mnt/8AE0D819E0D80CF7/SIFS/Set1/folder-2/catalina.2023-07-14.log': 528559328, '/mnt/8AE0D819E0D80CF7/SIFS/Set1/folder-2/catalina.2023-07-15.log': 1535623322, '/mnt/8AE0D819E0D80CF7/SIFS/Set1/folder-2/catalina.2023-07-16.log': 778446355, '/mnt/8AE0D819E0D80CF7/SIFS/Set1/folder-2/catalina.2023-07-22.log': 232763502, '/mnt/8AE0D819E0D80CF7/SIFS/Set1/folder-2/catalina.2023-07-23.log': 3658868898, '/mnt/8AE0D819E0D80CF7/SIFS/Set1/folder-2/catalina.2023-07-29.log': 3354282590, '/mnt/8AE0D819E0D80CF7/SIFS/Set1/folder-2/catalina.2023-07-30.log': 2728227863, '/mnt/8AE0D819E0D80CF7/SIFS/Set1/folder-2/catalina.2023-08-03.log': 2270819989, '/mnt/8AE0D819E0D80CF7/SIFS/Set1/folder-2/catalina.2023-08-05.log': 1893855410, '/mnt/8AE0D819E0D80CF7/SIFS/Set1/folder-2/catalina.2023-08-06.log': 3432897098, '/mnt/8AE0D819E0D80CF7/SIFS/Set1/folder-2/catalina.2023-08-12.log': 929540445, '/mnt/8AE0D819E0D80CF7/SIFS/Set1/folder-2/catalina.2023-08-13.log': 4081944364, '/mnt/8AE0D819E0D80CF7/SIFS/Set1/folder-2/catalina.2023-08-15.log': 304573580, '/mnt/8AE0D819E0D80CF7/SIFS/Set1/folder-2/catalina.2023-08-19.log': 3474198743, '/mnt/8AE0D819E0D80CF7/SIFS/Set1/folder-2/25-mar-2021-date-check-output': 491941252, '/mnt/8AE0D819E0D80CF7/SIFS/Set1/folder-2/catalina.2023-07-10.log': 1567611412, '/mnt/8AE0D819E0D80CF7/SIFS/Set1/folder-2/catalina.2023-08-20.log': 3469331300, '/mnt/8AE0D819E0D80CF7/SIFS/Set1/folder-2/client-rpms-upgrade-withgpl.tar': 858685805, '/mnt/8AE0D819E0D80CF7/SIFS/Set1/folder-2/fio-3.1-1.el6.x86_64.rpm': 3072141162, '/mnt/8AE0D819E0D80CF7/SIFS/Set1/folder-2/gpfs01_fio.txt': 4088169911, '/mnt/8AE0D819E0D80CF7/SIFS/Set1/folder-2/insight2-31-12-2021.tar.gz': 75273672, '/mnt/8AE0D819E0D80CF7/SIFS/Set1/folder-2/LS____.pdf': 271504327, '/mnt/8AE0D819E0D80CF7/SIFS/Set1/folder-2/output_dodging_points.pix': 4230636482, '/mnt/8AE0D819E0D80CF7/SIFS/Set1/folder-2/seqread.fio': 3102908675, '/mnt/8AE0D819E0D80CF7/SIFS/Set1/folder-2/SR170158_ddn_showall_20210902-13_20_38.tar.gz': 429421887, '/mnt/8AE0D819E0D80CF7/SIFS/Set1/folder-2/intermediate.crt': 927086328, '/mnt/8AE0D819E0D80CF7/SIFS/Set1/folder-2/iperf-2.0.8-1.el7.x86_64.rpm': 1901161480, '/mnt/8AE0D819E0D80CF7/SIFS/Set1/folder-2/Jones_Blockchain_03052020 (1).pdf': 2328842378, '/mnt/8AE0D819E0D80CF7/SIFS/Set1/folder-2/jps.backup': 1045153979, '/mnt/8AE0D819E0D80CF7/SIFS/Set1/folder-2/KKD geo tagging (1).xlsx': 3671584964, '/mnt/8AE0D819E0D80CF7/SIFS/Set1/folder-2/KKD geo tagging (2).xlsx': 3671584964, '/mnt/8AE0D819E0D80CF7/SIFS/Set1/folder-2/KKD geo tagging (3).xlsx': 3671584964, '/mnt/8AE0D819E0D80CF7/SIFS/Set1/folder-2/KKD geo tagging.xlsx': 3671584964, '/mnt/8AE0D819E0D80CF7/SIFS/Set1/folder-2/kmltest.png': 296728760, '/mnt/8AE0D819E0D80CF7/SIFS/Set1/folder-2/known_hosts-08-05-17': 1454355958, '/mnt/8AE0D819E0D80CF7/SIFS/Set1/folder-2/linux-nodes.txt': 1195209421, '/mnt/8AE0D819E0D80CF7/SIFS/Set1/folder-2/linux_nodes': 1773190647, '/mnt/8AE0D819E0D80CF7/SIFS/Set1/folder-2/Listing_Schedule_1.pdf': 2058251341, '/mnt/8AE0D819E0D80CF7/SIFS/Set1/folder-2/local_server_storage_check.sh': 354464215, '/mnt/8AE0D819E0D80CF7/SIFS/Set1/folder-2/local_server_storage_check.txt': 1586459853, '/mnt/8AE0D819E0D80CF7/SIFS/Set1/folder-2/local_storage_check.sh': 1713622475, '/mnt/8AE0D819E0D80CF7/SIFS/Set1/folder-2/lrocall.txt': 4233230412, '/mnt/8AE0D819E0D80CF7/SIFS/Set1/folder-2/LS____ (1).pdf': 4154956781, '/mnt/8AE0D819E0D80CF7/SIFS/Set1/folder-2/LS____ (2).pdf': 75327707, '/mnt/8AE0D819E0D80CF7/SIFS/Set1/folder-2/SR170158_ddn_showall_20210902-13_25_08.tar.gz': 4269461560, '/mnt/8AE0D819E0D80CF7/SIFS/Set1/folder-2/SR201434_ddn_showall_20230424-16_44_50.tar.gz': 68574657, '/mnt/8AE0D819E0D80CF7/SIFS/Set1/folder-2/ssh.sh': 1997800219, '/mnt/8AE0D819E0D80CF7/SIFS/Set1/folder-2/subset-1of3.prj': 2911782248, '/mnt/8AE0D819E0D80CF7/SIFS/Set1/folder-2/subset-1of3.prj.report.txt': 460860432, '/mnt/8AE0D819E0D80CF7/SIFS/Set1/folder-2/subset-1of3_prj_TPs.txt': 834990689, '/mnt/8AE0D819E0D80CF7/SIFS/Set1/folder-2/subset-2of3.prj': 3884862695, '/mnt/8AE0D819E0D80CF7/SIFS/Set1/folder-2/subset-2of3.prj.report.txt': 2885256730, '/mnt/8AE0D819E0D80CF7/SIFS/Set1/folder-2/subset-2of3_prj_TPs.txt': 2257085873, '/mnt/8AE0D819E0D80CF7/SIFS/Set1/folder-2/subset-3of3.prj': 4181726951, '/mnt/8AE0D819E0D80CF7/SIFS/Set1/folder-2/subset-3of3.prj.report.txt': 638491979, '/mnt/8AE0D819E0D80CF7/SIFS/Set1/folder-2/subset-3of3_prj_TPs.txt': 1421810061, '/mnt/8AE0D819E0D80CF7/SIFS/Set1/folder-2/sysfsutils-2.1.0-16.el7.x86_64.rpm': 1901203009, '/mnt/8AE0D819E0D80CF7/SIFS/Set1/folder-2/syslog': 4103245484, '/mnt/8AE0D819E0D80CF7/SIFS/Set1/folder-2/table.sql': 1543737023, '/mnt/8AE0D819E0D80CF7/SIFS/Set1/folder-2/test.go': 32931854, '/mnt/8AE0D819E0D80CF7/SIFS/Set1/folder-2/typescript': 4237512328, '/mnt/8AE0D819E0D80CF7/SIFS/Set1/folder-2/uptime-script-test.sh': 1064574869, '/mnt/8AE0D819E0D80CF7/SIFS/Set1/folder-2/whitepaper-200320.pdf': 3998638710, '/mnt/8AE0D819E0D80CF7/SIFS/Set1/folder-2/workstation1.bhuvannrsc.com': 2831829889, '/mnt/8AE0D819E0D80CF7/SIFS/Set1/folder-2/xrdp-0.9.15-3.el7.x86_64.rpm': 4275737393, '/mnt/8AE0D819E0D80CF7/SIFS/Set1/folder-2/clustersync.txt': 513247795, '/mnt/8AE0D819E0D80CF7/SIFS/Set1/folder-2/copy': 4080981629, '/mnt/8AE0D819E0D80CF7/SIFS/Set1/folder-2/Counters.rar': 276164928, '/mnt/8AE0D819E0D80CF7/SIFS/Set1/folder-2/covid_excel_19-38.xlsx': 1108885142, '/mnt/8AE0D819E0D80CF7/SIFS/Set1/folder-2/covid_excel_20-38.xlsx': 3843325172, '/mnt/8AE0D819E0D80CF7/SIFS/Set1/folder-2/current.xlsx': 3098471845, '/mnt/8AE0D819E0D80CF7/SIFS/Set1/folder-2/date-check 1.sh': 1216071190, '/mnt/8AE0D819E0D80CF7/SIFS/Set1/folder-2/date-check.sh': 2742803817, '/mnt/8AE0D819E0D80CF7/SIFS/Set1/folder-2/date-output-06-nov-2020': 123007100, '/mnt/8AE0D819E0D80CF7/SIFS/Set1/folder-2/date-output-compare': 1084060286, '/mnt/8AE0D819E0D80CF7/SIFS/Set1/folder-2/ddn-gs-api-4.2.1-21.1.ca4af0.noarch.rpm': 2924174122, '/mnt/8AE0D819E0D80CF7/SIFS/Set1/folder-2/ddn-gs-api-4.2.1-3.3d53e4_dirty.noarch.rpm': 1886447778, '/mnt/8AE0D819E0D80CF7/SIFS/Set1/folder-2/ddn-gs-api-4.2.1-4.569132.noarch.rpm': 2423284311, '/mnt/8AE0D819E0D80CF7/SIFS/Set1/folder-2/ddn-gs-api-4.2.1-5.083205.noarch.rpm': 409916531, '/mnt/8AE0D819E0D80CF7/SIFS/Set1/folder-2/ddn-restapi-core-gs-4.2.1-3.3d53e4_dirty.noarch.rpm': 3425283162, '/mnt/8AE0D819E0D80CF7/SIFS/Set1/folder-2/ddn-restapi-core-gs-4.2.1-5.083205.noarch.rpm': 3766013942, '/mnt/8AE0D819E0D80CF7/SIFS/Set1/folder-2/ddn-restapi-master-gs-4.2.1-3.3d53e4_dirty.noarch.rpm': 662978328, '/mnt/8AE0D819E0D80CF7/SIFS/Set1/folder-2/Details.id': 3083792837, '/mnt/8AE0D819E0D80CF7/SIFS/Set1/folder-2/Details2017.id': 3653774992, '/mnt/8AE0D819E0D80CF7/SIFS/Set1/folder-2/Dump.txt': 2299355650, '/mnt/8AE0D819E0D80CF7/SIFS/Set1/folder-2/EaseUS Partition Master 9.2.2 Technician Edition (FULL + Patch).zip': 1794788349, '/mnt/8AE0D819E0D80CF7/SIFS/Set1/folder-2/fbloc-03-497985.pdf': 3154817087, '/mnt/8AE0D819E0D80CF7/SIFS/Set1/folder-2/feb14-history': 4216412595, '/mnt/8AE0D819E0D80CF7/SIFS/Set1/folder-2/file.txt': 357323081, '/mnt/8AE0D819E0D80CF7/SIFS/Set1/folder-2/filecount.sh': 3429849286, '/mnt/8AE0D819E0D80CF7/SIFS/Set1/folder-2/fio-2.2.8-2.el7.x86_64.rpm': 4030365744, '/mnt/8AE0D819E0D80CF7/SIFS/Set1/folder-2/3.205-CVE_to_be_installed.txt': 1989426698, '/mnt/8AE0D819E0D80CF7/SIFS/Set1/folder-2/3.206-CVE_to_be_installed.txt': 2760641112, '/mnt/8AE0D819E0D80CF7/SIFS/Set1/folder-2/3.207-CVE_to_be_installed.txt': 2118820843, '/mnt/8AE0D819E0D80CF7/SIFS/Set1/folder-2/3.208-CVE_to_be_installed.txt': 2118820843, '/mnt/8AE0D819E0D80CF7/SIFS/Set1/folder-2/a4 (1).pdf': 3883118204, '/mnt/8AE0D819E0D80CF7/SIFS/Set1/folder-2/a4.pdf': 3276750444, '/mnt/8AE0D819E0D80CF7/SIFS/Set1/folder-2/abc123': 952577689, '/mnt/8AE0D819E0D80CF7/SIFS/Set1/folder-2/all.waiters2.txt': 1379761439, '/mnt/8AE0D819E0D80CF7/SIFS/Set1/folder-2/anaconda-ks.cfg': 484696585, '/mnt/8AE0D819E0D80CF7/SIFS/Set1/folder-2/authorized_keys': 267115915, '/mnt/8AE0D819E0D80CF7/SIFS/Set1/folder-2/authorized_keys-08-05-17': 2988307594, '/mnt/8AE0D819E0D80CF7/SIFS/Set1/folder-2/authorized_keys-4-8-17': 1108295982, '/mnt/8AE0D819E0D80CF7/SIFS/Set1/folder-2/BAND.dbf': 2983220115, '/mnt/8AE0D819E0D80CF7/SIFS/Set1/folder-2/BAND.prj': 1781440001, '/mnt/8AE0D819E0D80CF7/SIFS/Set1/folder-2/BAND.shp': 3470297660, '/mnt/8AE0D819E0D80CF7/SIFS/Set1/folder-2/BAND.shx': 1380588527, '/mnt/8AE0D819E0D80CF7/SIFS/Set1/folder-2/BAND_META.txt': 2975739354, '/mnt/8AE0D819E0D80CF7/SIFS/Set1/folder-2/BAND_META.xml': 1191414982, '/mnt/8AE0D819E0D80CF7/SIFS/Set1/folder-2/BAND_RPC.txt': 2991846822, '/mnt/8AE0D819E0D80CF7/SIFS/Set1/folder-2/bootstrap.min.js': 3672062522, '/mnt/8AE0D819E0D80CF7/SIFS/Set1/folder-2/buttons.html5.min.js': 3122643274, '/mnt/8AE0D819E0D80CF7/SIFS/Set1/folder-2/buttons.print.min.js': 1213417362, '/mnt/8AE0D819E0D80CF7/SIFS/Set1/folder-2/CA2906EN.pdf': 1981646552, '/mnt/8AE0D819E0D80CF7/SIFS/Set1/folder-2/Capture1.PNG': 2084412794, '/mnt/8AE0D819E0D80CF7/SIFS/Set1/folder-2/catalina.2023-07-02.log': 1695403644, '/mnt/8AE0D819E0D80CF7/SIFS/Set1/folder-2/catalina.2023-07-03.log': 559719210, '/mnt/8AE0D819E0D80CF7/SIFS/Set1/folder-2/catalina.2023-07-08.log': 2526484203, '/mnt/8AE0D819E0D80CF7/SIFS/Set1/folder-2/catalina.2023-07-09.log': 481842985, '/mnt/8AE0D819E0D80CF7/SIFS/Set1/folder-2/gpfs01_fio.txt_old': 233519612, '/mnt/8AE0D819E0D80CF7/SIFS/Set1/folder-2/gpfs01_fio_32.txt': 2378284301, '/mnt/8AE0D819E0D80CF7/SIFS/Set1/folder-2/gpfs01_fio_32_1M.txt': 2357716212, '/mnt/8AE0D819E0D80CF7/SIFS/Set1/folder-2/gpfs01_fio_32_1M_C2.txt': 3538203585, '/mnt/8AE0D819E0D80CF7/SIFS/Set1/folder-2/gpfs01_fio_8.txt': 2179685499, '/mnt/8AE0D819E0D80CF7/SIFS/Set1/folder-2/gpfs4.2.3-5-clientrpms.tar': 1879664032, '/mnt/8AE0D819E0D80CF7/SIFS/Set1/folder-2/gs-insightrpm.tar': 3886627021, '/mnt/8AE0D819E0D80CF7/SIFS/Set1/folder-2/gwm57h07.jpg': 1907704114, '/mnt/8AE0D819E0D80CF7/SIFS/Set1/folder-2/gwm66c08.jpg': 225652811, '/mnt/8AE0D819E0D80CF7/SIFS/Set1/folder-2/gwm66d05.jpg': 3566373970, '/mnt/8AE0D819E0D80CF7/SIFS/Set1/folder-2/ib-mellanox-installation-2017-07-16_13-40-35.log': 2775528990, '/mnt/8AE0D819E0D80CF7/SIFS/Set1/folder-2/ib-mellanox-installation-2017-10-04_02-32-02.log': 634677589, '/mnt/8AE0D819E0D80CF7/SIFS/Set1/folder-2/ib-mellanox-installation-2017-11-04_14-36-03.log': 1978661450, '/mnt/8AE0D819E0D80CF7/SIFS/Set1/folder-2/ib-mellanox-installation-2020-04-25_02-46-48.log': 3061814099, '/mnt/8AE0D819E0D80CF7/SIFS/Set1/folder-2/ib-mellanox-iser-patch-installation-2020-04-25_02-53-15.log': 2366763199, '/mnt/8AE0D819E0D80CF7/SIFS/Set1/folder-2/ib-mellanox-srp-patch-installation-2020-04-25_02-53-05.log': 3615528475, '/mnt/8AE0D819E0D80CF7/SIFS/Set1/folder-2/IGCAR General Awareness Model Question Paper.pdf': 1929246396, '/mnt/8AE0D819E0D80CF7/SIFS/Set1/folder-2/import CSV.txt': 1334132418, '/mnt/8AE0D819E0D80CF7/SIFS/Set1/folder-2/insight1-31-12-2021.tar.gz': 3234882085, '/mnt/8AE0D819E0D80CF7/SIFS/Set1/folder-2/merged-subsets.prj': 700884659, '/mnt/8AE0D819E0D80CF7/SIFS/Set1/folder-2/merged-subsets.prj.report.txt': 3318300513, '/mnt/8AE0D819E0D80CF7/SIFS/Set1/folder-2/merged-subsets.txt.mfile': 4092539274, '/mnt/8AE0D819E0D80CF7/SIFS/Set1/folder-2/mmhealth.sh': 2160110768, '/mnt/8AE0D819E0D80CF7/SIFS/Set1/folder-2/mounted': 150392954, '/mnt/8AE0D819E0D80CF7/SIFS/Set1/folder-2/NASA SBIR &amp; STTR Program Homepage - Distributed Digital Ledger for Aerospace Applications - 2019-01-09.pdf': 1713943885, '/mnt/8AE0D819E0D80CF7/SIFS/Set1/folder-2/new 1.txt': 522482631, '/mnt/8AE0D819E0D80CF7/SIFS/Set1/folder-2/new 2.txt': 595466716, '/mnt/8AE0D819E0D80CF7/SIFS/Set1/folder-2/New Text Document.txt': 3347645897, '/mnt/8AE0D819E0D80CF7/SIFS/Set1/folder-2/NewGCPs.bk': 4076018260, '/mnt/8AE0D819E0D80CF7/SIFS/Set1/folder-2/NewGCPs.prj': 4076018260, '/mnt/8AE0D819E0D80CF7/SIFS/Set1/folder-2/nodelist.txt': 969820432, '/mnt/8AE0D819E0D80CF7/SIFS/Set1/folder-2/nodelistnew.txt': 801219037, '/mnt/8AE0D819E0D80CF7/SIFS/Set1/folder-2/nsd-tmp.txt': 2147017343, '/mnt/8AE0D819E0D80CF7/SIFS/Set1/folder-2/oman-aoi.aoi': 1040764400, '/mnt/8AE0D819E0D80CF7/SIFS/Set1/folder-2/output_cutline_preview.pix': 1950074850, '/mnt/8AE0D819E0D80CF7/SIFS/Set1/folder-2/output_cutline_topology.pix': 2940723179, '/mnt/8AE0D819E0D80CF7/SIFS/Set1/folder-2/output_data_extents.pix': 802732874, '/mnt/8AE0D819E0D80CF7/SIFS/Set1/folder-2/seqwrite.fio': 146995546, '/mnt/8AE0D819E0D80CF7/SIFS/Set1/folder-2/server.js': 2410882285, '/mnt/8AE0D819E0D80CF7/SIFS/Set1/folder-2/server1.crt': 2142333396, '/mnt/8AE0D819E0D80CF7/SIFS/Set1/folder-2/snap1.PNG': 1050270160, '/mnt/8AE0D819E0D80CF7/SIFS/Set1/folder-2/Spectrum_Scale_Standard-4.2.1.1-x86_64-Windows-install.zip.md5': 3142067656, '/mnt/8AE0D819E0D80CF7/SIFS/Set1/folder-2/SR153362_ddn_showall_20201029-15_03_32.tar.gz': 2611655601, '/mnt/8AE0D819E0D80CF7/SIFS/Set1/folder-2/SR153400_ddn_showall_20201025-11_49_30.tar.gz': 2980175314, '/mnt/8AE0D819E0D80CF7/SIFS/Set1/folder-2/SR157135_ddn_showall_20210106-14_27_44.tar.gz': 1179310738, '/mnt/8AE0D819E0D80CF7/SIFS/Set1/folder-2/SR158916_ddn_showall_20210207-12_39_53.tar.gz': 3474828604, '/mnt/8AE0D819E0D80CF7/SIFS/Set1/folder-2/SR159360_ddn_showall_20210217-12_22_04.tar.gz': 2905737621, '/mnt/8AE0D819E0D80CF7/SIFS/Set1/folder-2/SR159360_ddn_showall_20210222-13_54_51.tar.gz': 1258920458, '/mnt/8AE0D819E0D80CF7/SIFS/Set1/folder-2/SR161449_ddn_showall_20210331-16_31_16.tar.gz': 2491941525, '/mnt/8AE0D819E0D80CF7/SIFS/Set1/folder-2/SR170158_ddn_showall_20210902-12_51_23.tar.gz': 949101580, '/mnt/8AE0D819E0D80CF7/SIFS/Set1/folder-2/catalina.2023-08-26.log': 74896376, '/mnt/8AE0D819E0D80CF7/SIFS/Set1/folder-2/catalina.2023-08-27.log': 1114890961, '/mnt/8AE0D819E0D80CF7/SIFS/Set1/folder-2/catalina.2023-09-02.log': 3608526294, '/mnt/8AE0D819E0D80CF7/SIFS/Set1/folder-2/catalina.2023-09-03.log': 4113975075, '/mnt/8AE0D819E0D80CF7/SIFS/Set1/folder-2/catalina.2023-09-07.log': 4026006313, '/mnt/8AE0D819E0D80CF7/SIFS/Set1/folder-2/catalina.2023-09-09.log': 1803812011, '/mnt/8AE0D819E0D80CF7/SIFS/Set1/folder-2/catalina.2023-09-10.log': 3412288381, '/mnt/8AE0D819E0D80CF7/SIFS/Set1/folder-2/catalina.2023-09-15.log': 2899060482, '/mnt/8AE0D819E0D80CF7/SIFS/Set1/folder-2/catalina.2023-09-16.log': 1122567482, '/mnt/8AE0D819E0D80CF7/SIFS/Set1/folder-2/catalina.2023-09-17.log': 289579437, '/mnt/8AE0D819E0D80CF7/SIFS/Set1/folder-2/catalina.2023-09-18.log': 2819359193, '/mnt/8AE0D819E0D80CF7/SIFS/Set1/folder-2/catalina.2023-09-19.log': 3236842916, '/mnt/8AE0D819E0D80CF7/SIFS/Set1/folder-2/catalina.2023-09-23.log': 1125288143, '/mnt/8AE0D819E0D80CF7/SIFS/Set1/folder-2/catalina.2023-09-24.log': 3716852888, '/mnt/8AE0D819E0D80CF7/SIFS/Set1/folder-2/catalina.2023-09-28.log': 395096985, '/mnt/8AE0D819E0D80CF7/SIFS/Set1/folder-2/catalina.2023-09-29.log': 2260735160, '/mnt/8AE0D819E0D80CF7/SIFS/Set1/folder-2/catalina.2023-09-30.log': 2496074666, '/mnt/8AE0D819E0D80CF7/SIFS/Set1/folder-2/Chassis Temp & Fan.txt': 622968829}\n"
     ]
    }
   ],
   "source": [
    "## Step 3\n",
    "#CRC32 Hashing For Less files\n",
    "\n",
    "import zlib\n",
    "\n",
    "file_crc_dict = {}\n",
    "\n",
    "for file_name in folder1_files:\n",
    "    with open(file_name, \"rb\") as f:\n",
    "        file_data = f.read()\n",
    "        crc = zlib.crc32(file_data)\n",
    "        file_crc_dict[file_name] = crc\n",
    "\n",
    "print(file_crc_dict)\n",
    "\n",
    "## Step 3\n",
    "#CRC32 Hashing For Less files\n",
    "\n",
    "file_crc_dict2 = {}\n",
    "\n",
    "for file_name in folder2_files:\n",
    "    with open(file_name, \"rb\") as f:\n",
    "        file_data = f.read()\n",
    "        crc = zlib.crc32(file_data)\n",
    "        file_crc_dict2[file_name] = crc\n",
    "\n",
    "print(file_crc_dict2)"
   ]
  },
  {
   "cell_type": "code",
   "execution_count": 7,
   "metadata": {},
   "outputs": [
    {
     "name": "stdout",
     "output_type": "stream",
     "text": [
      "{'/mnt/8AE0D819E0D80CF7/SIFS/Set1/folder-1/ddn-restapi-core-gs-4.2.1-3.3d53e4_dirty.noarch.rpm': 3425283162, '/mnt/8AE0D819E0D80CF7/SIFS/Set1/folder-1/08456059.pdf': 3390522511, '/mnt/8AE0D819E0D80CF7/SIFS/Set1/folder-1/20180006549.pdf': 3788199420, '/mnt/8AE0D819E0D80CF7/SIFS/Set1/folder-1/235434231_RAW_PAN.pix': 2653310308, '/mnt/8AE0D819E0D80CF7/SIFS/Set1/folder-1/235434251_RAW_PAN_LOG.txt': 3808259856, '/mnt/8AE0D819E0D80CF7/SIFS/Set1/folder-1/3.121-CVE_to_be_installed.txt': 2512722902, '/mnt/8AE0D819E0D80CF7/SIFS/Set1/folder-1/3.205-CVE_to_be_installed.txt': 1989426698, '/mnt/8AE0D819E0D80CF7/SIFS/Set1/folder-1/3.207-CVE_to_be_installed.txt': 2118820843, '/mnt/8AE0D819E0D80CF7/SIFS/Set1/folder-1/anaconda-ks.cfg': 484696585, '/mnt/8AE0D819E0D80CF7/SIFS/Set1/folder-1/authorized_keys-4-8-17': 1108295982, '/mnt/8AE0D819E0D80CF7/SIFS/Set1/folder-1/BAND_RPC.txt': 2991846822, '/mnt/8AE0D819E0D80CF7/SIFS/Set1/folder-1/buttons.print.min.js': 1213417362, '/mnt/8AE0D819E0D80CF7/SIFS/Set1/folder-1/catalina.2023-07-14.log': 528559328, '/mnt/8AE0D819E0D80CF7/SIFS/Set1/folder-1/catalina.2023-07-16.log': 778446355, '/mnt/8AE0D819E0D80CF7/SIFS/Set1/folder-1/catalina.2023-07-23.log': 3658868898, '/mnt/8AE0D819E0D80CF7/SIFS/Set1/folder-1/catalina.2023-08-26.log': 74896376, '/mnt/8AE0D819E0D80CF7/SIFS/Set1/folder-1/covid_excel_20-38.xlsx': 3843325172, '/mnt/8AE0D819E0D80CF7/SIFS/Set1/folder-1/EaseUS Partition Master 9.2.2 Technician Edition (FULL + Patch).zip': 1794788349, '/mnt/8AE0D819E0D80CF7/SIFS/Set1/folder-1/fio-3.1-1.el6.x86_64.rpm': 3072141162, '/mnt/8AE0D819E0D80CF7/SIFS/Set1/folder-1/gpfs.gss.pmsensors-4.2.3-5.el7.x86_64.rpm': 2040079156, '/mnt/8AE0D819E0D80CF7/SIFS/Set1/folder-1/gwm66c08.jpg': 225652811, '/mnt/8AE0D819E0D80CF7/SIFS/Set1/folder-1/import CSV.txt': 1334132418, '/mnt/8AE0D819E0D80CF7/SIFS/Set1/folder-1/KKD geo tagging (1).xlsx': 3671584964, '/mnt/8AE0D819E0D80CF7/SIFS/Set1/folder-1/LS____.pdf': 271504327, '/mnt/8AE0D819E0D80CF7/SIFS/Set1/folder-1/mmhealth.sh': 2160110768, '/mnt/8AE0D819E0D80CF7/SIFS/Set1/folder-1/mounted': 150392954, '/mnt/8AE0D819E0D80CF7/SIFS/Set1/folder-1/NewGCPs.bk': 4076018260, '/mnt/8AE0D819E0D80CF7/SIFS/Set1/folder-1/SR159360_ddn_showall_20210222-13_54_51.tar.gz': 1258920458, '/mnt/8AE0D819E0D80CF7/SIFS/Set1/folder-1/SR170158_ddn_showall_20210902-13_20_38.tar.gz': 429421887, '/mnt/8AE0D819E0D80CF7/SIFS/Set1/folder-1/syslog': 4103245484, '/mnt/8AE0D819E0D80CF7/SIFS/Set1/folder-1/table.sql': 1543737023}\n"
     ]
    },
    {
     "ename": "KeyboardInterrupt",
     "evalue": "",
     "output_type": "error",
     "traceback": [
      "\u001b[0;31m---------------------------------------------------------------------------\u001b[0m",
      "\u001b[0;31mKeyboardInterrupt\u001b[0m                         Traceback (most recent call last)",
      "Cell \u001b[0;32mIn[7], line 23\u001b[0m\n\u001b[1;32m     21\u001b[0m \u001b[38;5;28;01mfor\u001b[39;00m file_name \u001b[38;5;129;01min\u001b[39;00m folder2_files:\n\u001b[1;32m     22\u001b[0m     \u001b[38;5;28;01mwith\u001b[39;00m \u001b[38;5;28mopen\u001b[39m(file_name, \u001b[38;5;124m\"\u001b[39m\u001b[38;5;124mrb\u001b[39m\u001b[38;5;124m\"\u001b[39m) \u001b[38;5;28;01mas\u001b[39;00m f:\n\u001b[0;32m---> 23\u001b[0m         file_data \u001b[38;5;241m=\u001b[39m f\u001b[38;5;241m.\u001b[39mread()\n\u001b[1;32m     24\u001b[0m         crc \u001b[38;5;241m=\u001b[39m zlib\u001b[38;5;241m.\u001b[39mcrc32(file_data)\n\u001b[1;32m     25\u001b[0m         file_crc_dict2[file_name] \u001b[38;5;241m=\u001b[39m crc\n",
      "\u001b[0;31mKeyboardInterrupt\u001b[0m: "
     ]
    }
   ],
   "source": [
    "## Step 3\n",
    "#CRC32 Hashing For Less files\n",
    "\n",
    "import zlib\n",
    "\n",
    "file_crc_dict = {}\n",
    "\n",
    "for file_name in folder1_files:\n",
    "    with open(file_name, \"rb\") as f:\n",
    "        file_data = f.read()\n",
    "        crc = zlib.crc32(file_data)\n",
    "        file_crc_dict[file_name] = crc\n",
    "\n",
    "print(file_crc_dict)\n",
    "\n",
    "## Step 3\n",
    "#CRC32 Hashing For Less files\n",
    "\n",
    "file_crc_dict2 = {}\n",
    "\n",
    "for file_name in folder2_files:\n",
    "    with open(file_name, \"rb\") as f:\n",
    "        file_data = f.read()\n",
    "        crc = zlib.crc32(file_data)\n",
    "        file_crc_dict2[file_name] = crc\n",
    "\n",
    "print(file_crc_dict2)"
   ]
  },
  {
   "cell_type": "code",
   "execution_count": null,
   "metadata": {},
   "outputs": [
    {
     "ename": "FileNotFoundError",
     "evalue": "[Errno 2] No such file or directory: 'ddn-restapi-core-gs-4.2.1-3.3d53e4_dirty.noarch.rpm'",
     "output_type": "error",
     "traceback": [
      "\u001b[0;31m---------------------------------------------------------------------------\u001b[0m\n",
      "\u001b[0;31mFileNotFoundError\u001b[0m                         Traceback (most recent call last)\n",
      "Cell \u001b[0;32mIn[9], line 9\u001b[0m\n",
      "\u001b[1;32m      6\u001b[0m file_crc_dict \u001b[38;5;241m=\u001b[39m {}\n",
      "\u001b[1;32m      8\u001b[0m \u001b[38;5;28;01mfor\u001b[39;00m file_name \u001b[38;5;129;01min\u001b[39;00m folder1_files:\n",
      "\u001b[0;32m----> 9\u001b[0m     \u001b[38;5;28;01mwith\u001b[39;00m \u001b[38;5;28;43mopen\u001b[39;49m\u001b[43m(\u001b[49m\u001b[43mfile_name\u001b[49m\u001b[43m,\u001b[49m\u001b[43m \u001b[49m\u001b[38;5;124;43m\"\u001b[39;49m\u001b[38;5;124;43mrb\u001b[39;49m\u001b[38;5;124;43m\"\u001b[39;49m\u001b[43m)\u001b[49m \u001b[38;5;28;01mas\u001b[39;00m f:\n",
      "\u001b[1;32m     10\u001b[0m         file_data \u001b[38;5;241m=\u001b[39m f\u001b[38;5;241m.\u001b[39mread()\n",
      "\u001b[1;32m     11\u001b[0m         crc \u001b[38;5;241m=\u001b[39m zlib\u001b[38;5;241m.\u001b[39mcrc32(file_data)\n",
      "\n",
      "File \u001b[0;32m~/.local/lib/python3.11/site-packages/IPython/core/interactiveshell.py:310\u001b[0m, in \u001b[0;36m_modified_open\u001b[0;34m(file, *args, **kwargs)\u001b[0m\n",
      "\u001b[1;32m    303\u001b[0m \u001b[38;5;28;01mif\u001b[39;00m file \u001b[38;5;129;01min\u001b[39;00m {\u001b[38;5;241m0\u001b[39m, \u001b[38;5;241m1\u001b[39m, \u001b[38;5;241m2\u001b[39m}:\n",
      "\u001b[1;32m    304\u001b[0m     \u001b[38;5;28;01mraise\u001b[39;00m \u001b[38;5;167;01mValueError\u001b[39;00m(\n",
      "\u001b[1;32m    305\u001b[0m         \u001b[38;5;124mf\u001b[39m\u001b[38;5;124m\"\u001b[39m\u001b[38;5;124mIPython won\u001b[39m\u001b[38;5;124m'\u001b[39m\u001b[38;5;124mt let you open fd=\u001b[39m\u001b[38;5;132;01m{\u001b[39;00mfile\u001b[38;5;132;01m}\u001b[39;00m\u001b[38;5;124m by default \u001b[39m\u001b[38;5;124m\"\u001b[39m\n",
      "\u001b[1;32m    306\u001b[0m         \u001b[38;5;124m\"\u001b[39m\u001b[38;5;124mas it is likely to crash IPython. If you know what you are doing, \u001b[39m\u001b[38;5;124m\"\u001b[39m\n",
      "\u001b[1;32m    307\u001b[0m         \u001b[38;5;124m\"\u001b[39m\u001b[38;5;124myou can use builtins\u001b[39m\u001b[38;5;124m'\u001b[39m\u001b[38;5;124m open.\u001b[39m\u001b[38;5;124m\"\u001b[39m\n",
      "\u001b[1;32m    308\u001b[0m     )\n",
      "\u001b[0;32m--> 310\u001b[0m \u001b[38;5;28;01mreturn\u001b[39;00m \u001b[43mio_open\u001b[49m\u001b[43m(\u001b[49m\u001b[43mfile\u001b[49m\u001b[43m,\u001b[49m\u001b[43m \u001b[49m\u001b[38;5;241;43m*\u001b[39;49m\u001b[43margs\u001b[49m\u001b[43m,\u001b[49m\u001b[43m \u001b[49m\u001b[38;5;241;43m*\u001b[39;49m\u001b[38;5;241;43m*\u001b[39;49m\u001b[43mkwargs\u001b[49m\u001b[43m)\u001b[49m\n",
      "\n",
      "\u001b[0;31mFileNotFoundError\u001b[0m: [Errno 2] No such file or directory: 'ddn-restapi-core-gs-4.2.1-3.3d53e4_dirty.noarch.rpm'"
     ]
    }
   ],
   "source": [
    "## Step 3\n",
    "#CRC32 Hashing For Less files\n",
    "\n",
    "import zlib\n",
    "\n",
    "file_crc_dict = {}\n",
    "\n",
    "for file_name in folder1_files:\n",
    "    with open(file_name, \"rb\") as f:\n",
    "        file_data = f.read()\n",
    "        crc = zlib.crc32(file_data)\n",
    "        file_crc_dict[file_name] = crc\n",
    "\n",
    "print(file_crc_dict)\n",
    "\n",
    "## Step 3\n",
    "#CRC32 Hashing For Less files\n",
    "\n",
    "file_crc_dict2 = {}\n",
    "\n",
    "for file_name in folder2_files:\n",
    "    with open(file_name, \"rb\") as f:\n",
    "        file_data = f.read()\n",
    "        crc = zlib.crc32(file_data)\n",
    "        file_crc_dict2[file_name] = crc\n",
    "\n",
    "print(file_crc_dict2)"
   ]
  },
  {
   "cell_type": "code",
   "execution_count": null,
   "metadata": {},
   "outputs": [
    {
     "ename": "FileNotFoundError",
     "evalue": "[Errno 2] No such file or directory: 'ddn-restapi-core-gs-4.2.1-3.3d53e4_dirty.noarch.rpm'",
     "output_type": "error",
     "traceback": [
      "\u001b[0;31m---------------------------------------------------------------------------\u001b[0m\n",
      "\u001b[0;31mFileNotFoundError\u001b[0m                         Traceback (most recent call last)\n",
      "Cell \u001b[0;32mIn[9], line 9\u001b[0m\n",
      "\u001b[1;32m      6\u001b[0m file_crc_dict \u001b[38;5;241m=\u001b[39m {}\n",
      "\u001b[1;32m      8\u001b[0m \u001b[38;5;28;01mfor\u001b[39;00m file_name \u001b[38;5;129;01min\u001b[39;00m folder1_files:\n",
      "\u001b[0;32m----> 9\u001b[0m     \u001b[38;5;28;01mwith\u001b[39;00m \u001b[38;5;28;43mopen\u001b[39;49m\u001b[43m(\u001b[49m\u001b[43mfile_name\u001b[49m\u001b[43m,\u001b[49m\u001b[43m \u001b[49m\u001b[38;5;124;43m\"\u001b[39;49m\u001b[38;5;124;43mrb\u001b[39;49m\u001b[38;5;124;43m\"\u001b[39;49m\u001b[43m)\u001b[49m \u001b[38;5;28;01mas\u001b[39;00m f:\n",
      "\u001b[1;32m     10\u001b[0m         file_data \u001b[38;5;241m=\u001b[39m f\u001b[38;5;241m.\u001b[39mread()\n",
      "\u001b[1;32m     11\u001b[0m         crc \u001b[38;5;241m=\u001b[39m zlib\u001b[38;5;241m.\u001b[39mcrc32(file_data)\n",
      "\n",
      "File \u001b[0;32m~/.local/lib/python3.11/site-packages/IPython/core/interactiveshell.py:310\u001b[0m, in \u001b[0;36m_modified_open\u001b[0;34m(file, *args, **kwargs)\u001b[0m\n",
      "\u001b[1;32m    303\u001b[0m \u001b[38;5;28;01mif\u001b[39;00m file \u001b[38;5;129;01min\u001b[39;00m {\u001b[38;5;241m0\u001b[39m, \u001b[38;5;241m1\u001b[39m, \u001b[38;5;241m2\u001b[39m}:\n",
      "\u001b[1;32m    304\u001b[0m     \u001b[38;5;28;01mraise\u001b[39;00m \u001b[38;5;167;01mValueError\u001b[39;00m(\n",
      "\u001b[1;32m    305\u001b[0m         \u001b[38;5;124mf\u001b[39m\u001b[38;5;124m\"\u001b[39m\u001b[38;5;124mIPython won\u001b[39m\u001b[38;5;124m'\u001b[39m\u001b[38;5;124mt let you open fd=\u001b[39m\u001b[38;5;132;01m{\u001b[39;00mfile\u001b[38;5;132;01m}\u001b[39;00m\u001b[38;5;124m by default \u001b[39m\u001b[38;5;124m\"\u001b[39m\n",
      "\u001b[1;32m    306\u001b[0m         \u001b[38;5;124m\"\u001b[39m\u001b[38;5;124mas it is likely to crash IPython. If you know what you are doing, \u001b[39m\u001b[38;5;124m\"\u001b[39m\n",
      "\u001b[1;32m    307\u001b[0m         \u001b[38;5;124m\"\u001b[39m\u001b[38;5;124myou can use builtins\u001b[39m\u001b[38;5;124m'\u001b[39m\u001b[38;5;124m open.\u001b[39m\u001b[38;5;124m\"\u001b[39m\n",
      "\u001b[1;32m    308\u001b[0m     )\n",
      "\u001b[0;32m--> 310\u001b[0m \u001b[38;5;28;01mreturn\u001b[39;00m \u001b[43mio_open\u001b[49m\u001b[43m(\u001b[49m\u001b[43mfile\u001b[49m\u001b[43m,\u001b[49m\u001b[43m \u001b[49m\u001b[38;5;241;43m*\u001b[39;49m\u001b[43margs\u001b[49m\u001b[43m,\u001b[49m\u001b[43m \u001b[49m\u001b[38;5;241;43m*\u001b[39;49m\u001b[38;5;241;43m*\u001b[39;49m\u001b[43mkwargs\u001b[49m\u001b[43m)\u001b[49m\n",
      "\n",
      "\u001b[0;31mFileNotFoundError\u001b[0m: [Errno 2] No such file or directory: 'ddn-restapi-core-gs-4.2.1-3.3d53e4_dirty.noarch.rpm'"
     ]
    }
   ],
   "source": [
    "## Step 3\n",
    "#CRC32 Hashing For Less files\n",
    "\n",
    "import zlib\n",
    "\n",
    "file_crc_dict = {}\n",
    "\n",
    "for file_name in folder1_files:\n",
    "    with open(file_name, \"rb\") as f:\n",
    "        file_data = f.read()\n",
    "        crc = zlib.crc32(file_data)\n",
    "        file_crc_dict[file_name] = crc\n",
    "\n",
    "print(file_crc_dict)\n",
    "\n",
    "## Step 3\n",
    "#CRC32 Hashing For Less files\n",
    "\n",
    "file_crc_dict2 = {}\n",
    "\n",
    "for file_name in folder2_files:\n",
    "    with open(file_name, \"rb\") as f:\n",
    "        file_data = f.read()\n",
    "        crc = zlib.crc32(file_data)\n",
    "        file_crc_dict2[file_name] = crc\n",
    "\n",
    "print(file_crc_dict2)"
   ]
  },
  {
   "cell_type": "code",
   "execution_count": null,
   "metadata": {},
   "outputs": [
    {
     "ename": "FileNotFoundError",
     "evalue": "[Errno 2] No such file or directory: 'ddn-restapi-core-gs-4.2.1-3.3d53e4_dirty.noarch.rpm'",
     "output_type": "error",
     "traceback": [
      "\u001b[0;31m---------------------------------------------------------------------------\u001b[0m\n",
      "\u001b[0;31mFileNotFoundError\u001b[0m                         Traceback (most recent call last)\n",
      "Cell \u001b[0;32mIn[9], line 9\u001b[0m\n",
      "\u001b[1;32m      6\u001b[0m file_crc_dict \u001b[38;5;241m=\u001b[39m {}\n",
      "\u001b[1;32m      8\u001b[0m \u001b[38;5;28;01mfor\u001b[39;00m file_name \u001b[38;5;129;01min\u001b[39;00m folder1_files:\n",
      "\u001b[0;32m----> 9\u001b[0m     \u001b[38;5;28;01mwith\u001b[39;00m \u001b[38;5;28;43mopen\u001b[39;49m\u001b[43m(\u001b[49m\u001b[43mfile_name\u001b[49m\u001b[43m,\u001b[49m\u001b[43m \u001b[49m\u001b[38;5;124;43m\"\u001b[39;49m\u001b[38;5;124;43mrb\u001b[39;49m\u001b[38;5;124;43m\"\u001b[39;49m\u001b[43m)\u001b[49m \u001b[38;5;28;01mas\u001b[39;00m f:\n",
      "\u001b[1;32m     10\u001b[0m         file_data \u001b[38;5;241m=\u001b[39m f\u001b[38;5;241m.\u001b[39mread()\n",
      "\u001b[1;32m     11\u001b[0m         crc \u001b[38;5;241m=\u001b[39m zlib\u001b[38;5;241m.\u001b[39mcrc32(file_data)\n",
      "\n",
      "File \u001b[0;32m~/.local/lib/python3.11/site-packages/IPython/core/interactiveshell.py:310\u001b[0m, in \u001b[0;36m_modified_open\u001b[0;34m(file, *args, **kwargs)\u001b[0m\n",
      "\u001b[1;32m    303\u001b[0m \u001b[38;5;28;01mif\u001b[39;00m file \u001b[38;5;129;01min\u001b[39;00m {\u001b[38;5;241m0\u001b[39m, \u001b[38;5;241m1\u001b[39m, \u001b[38;5;241m2\u001b[39m}:\n",
      "\u001b[1;32m    304\u001b[0m     \u001b[38;5;28;01mraise\u001b[39;00m \u001b[38;5;167;01mValueError\u001b[39;00m(\n",
      "\u001b[1;32m    305\u001b[0m         \u001b[38;5;124mf\u001b[39m\u001b[38;5;124m\"\u001b[39m\u001b[38;5;124mIPython won\u001b[39m\u001b[38;5;124m'\u001b[39m\u001b[38;5;124mt let you open fd=\u001b[39m\u001b[38;5;132;01m{\u001b[39;00mfile\u001b[38;5;132;01m}\u001b[39;00m\u001b[38;5;124m by default \u001b[39m\u001b[38;5;124m\"\u001b[39m\n",
      "\u001b[1;32m    306\u001b[0m         \u001b[38;5;124m\"\u001b[39m\u001b[38;5;124mas it is likely to crash IPython. If you know what you are doing, \u001b[39m\u001b[38;5;124m\"\u001b[39m\n",
      "\u001b[1;32m    307\u001b[0m         \u001b[38;5;124m\"\u001b[39m\u001b[38;5;124myou can use builtins\u001b[39m\u001b[38;5;124m'\u001b[39m\u001b[38;5;124m open.\u001b[39m\u001b[38;5;124m\"\u001b[39m\n",
      "\u001b[1;32m    308\u001b[0m     )\n",
      "\u001b[0;32m--> 310\u001b[0m \u001b[38;5;28;01mreturn\u001b[39;00m \u001b[43mio_open\u001b[49m\u001b[43m(\u001b[49m\u001b[43mfile\u001b[49m\u001b[43m,\u001b[49m\u001b[43m \u001b[49m\u001b[38;5;241;43m*\u001b[39;49m\u001b[43margs\u001b[49m\u001b[43m,\u001b[49m\u001b[43m \u001b[49m\u001b[38;5;241;43m*\u001b[39;49m\u001b[38;5;241;43m*\u001b[39;49m\u001b[43mkwargs\u001b[49m\u001b[43m)\u001b[49m\n",
      "\n",
      "\u001b[0;31mFileNotFoundError\u001b[0m: [Errno 2] No such file or directory: 'ddn-restapi-core-gs-4.2.1-3.3d53e4_dirty.noarch.rpm'"
     ]
    }
   ],
   "source": [
    "## Step 3\n",
    "#CRC32 Hashing For Less files\n",
    "\n",
    "import zlib\n",
    "\n",
    "file_crc_dict = {}\n",
    "\n",
    "for file_name in folder1_files:\n",
    "    with open(file_name, \"rb\") as f:\n",
    "        file_data = f.read()\n",
    "        crc = zlib.crc32(file_data)\n",
    "        file_crc_dict[file_name] = crc\n",
    "\n",
    "print(file_crc_dict)\n",
    "\n",
    "## Step 3\n",
    "#CRC32 Hashing For Less files\n",
    "\n",
    "file_crc_dict2 = {}\n",
    "\n",
    "for file_name in folder2_files:\n",
    "    with open(file_name, \"rb\") as f:\n",
    "        file_data = f.read()\n",
    "        crc = zlib.crc32(file_data)\n",
    "        file_crc_dict2[file_name] = crc\n",
    "\n",
    "print(file_crc_dict2)"
   ]
  },
  {
   "cell_type": "code",
   "execution_count": null,
   "metadata": {},
   "outputs": [
    {
     "ename": "FileNotFoundError",
     "evalue": "[Errno 2] No such file or directory: 'ddn-restapi-core-gs-4.2.1-3.3d53e4_dirty.noarch.rpm'",
     "output_type": "error",
     "traceback": [
      "\u001b[0;31m---------------------------------------------------------------------------\u001b[0m\n",
      "\u001b[0;31mFileNotFoundError\u001b[0m                         Traceback (most recent call last)\n",
      "Cell \u001b[0;32mIn[9], line 9\u001b[0m\n",
      "\u001b[1;32m      6\u001b[0m file_crc_dict \u001b[38;5;241m=\u001b[39m {}\n",
      "\u001b[1;32m      8\u001b[0m \u001b[38;5;28;01mfor\u001b[39;00m file_name \u001b[38;5;129;01min\u001b[39;00m folder1_files:\n",
      "\u001b[0;32m----> 9\u001b[0m     \u001b[38;5;28;01mwith\u001b[39;00m \u001b[38;5;28;43mopen\u001b[39;49m\u001b[43m(\u001b[49m\u001b[43mfile_name\u001b[49m\u001b[43m,\u001b[49m\u001b[43m \u001b[49m\u001b[38;5;124;43m\"\u001b[39;49m\u001b[38;5;124;43mrb\u001b[39;49m\u001b[38;5;124;43m\"\u001b[39;49m\u001b[43m)\u001b[49m \u001b[38;5;28;01mas\u001b[39;00m f:\n",
      "\u001b[1;32m     10\u001b[0m         file_data \u001b[38;5;241m=\u001b[39m f\u001b[38;5;241m.\u001b[39mread()\n",
      "\u001b[1;32m     11\u001b[0m         crc \u001b[38;5;241m=\u001b[39m zlib\u001b[38;5;241m.\u001b[39mcrc32(file_data)\n",
      "\n",
      "File \u001b[0;32m~/.local/lib/python3.11/site-packages/IPython/core/interactiveshell.py:310\u001b[0m, in \u001b[0;36m_modified_open\u001b[0;34m(file, *args, **kwargs)\u001b[0m\n",
      "\u001b[1;32m    303\u001b[0m \u001b[38;5;28;01mif\u001b[39;00m file \u001b[38;5;129;01min\u001b[39;00m {\u001b[38;5;241m0\u001b[39m, \u001b[38;5;241m1\u001b[39m, \u001b[38;5;241m2\u001b[39m}:\n",
      "\u001b[1;32m    304\u001b[0m     \u001b[38;5;28;01mraise\u001b[39;00m \u001b[38;5;167;01mValueError\u001b[39;00m(\n",
      "\u001b[1;32m    305\u001b[0m         \u001b[38;5;124mf\u001b[39m\u001b[38;5;124m\"\u001b[39m\u001b[38;5;124mIPython won\u001b[39m\u001b[38;5;124m'\u001b[39m\u001b[38;5;124mt let you open fd=\u001b[39m\u001b[38;5;132;01m{\u001b[39;00mfile\u001b[38;5;132;01m}\u001b[39;00m\u001b[38;5;124m by default \u001b[39m\u001b[38;5;124m\"\u001b[39m\n",
      "\u001b[1;32m    306\u001b[0m         \u001b[38;5;124m\"\u001b[39m\u001b[38;5;124mas it is likely to crash IPython. If you know what you are doing, \u001b[39m\u001b[38;5;124m\"\u001b[39m\n",
      "\u001b[1;32m    307\u001b[0m         \u001b[38;5;124m\"\u001b[39m\u001b[38;5;124myou can use builtins\u001b[39m\u001b[38;5;124m'\u001b[39m\u001b[38;5;124m open.\u001b[39m\u001b[38;5;124m\"\u001b[39m\n",
      "\u001b[1;32m    308\u001b[0m     )\n",
      "\u001b[0;32m--> 310\u001b[0m \u001b[38;5;28;01mreturn\u001b[39;00m \u001b[43mio_open\u001b[49m\u001b[43m(\u001b[49m\u001b[43mfile\u001b[49m\u001b[43m,\u001b[49m\u001b[43m \u001b[49m\u001b[38;5;241;43m*\u001b[39;49m\u001b[43margs\u001b[49m\u001b[43m,\u001b[49m\u001b[43m \u001b[49m\u001b[38;5;241;43m*\u001b[39;49m\u001b[38;5;241;43m*\u001b[39;49m\u001b[43mkwargs\u001b[49m\u001b[43m)\u001b[49m\n",
      "\n",
      "\u001b[0;31mFileNotFoundError\u001b[0m: [Errno 2] No such file or directory: 'ddn-restapi-core-gs-4.2.1-3.3d53e4_dirty.noarch.rpm'"
     ]
    }
   ],
   "source": [
    "## Step 3\n",
    "#CRC32 Hashing For Less files\n",
    "\n",
    "import zlib\n",
    "\n",
    "file_crc_dict = {}\n",
    "\n",
    "for file_name in folder1_files:\n",
    "    with open(file_name, \"rb\") as f:\n",
    "        file_data = f.read()\n",
    "        crc = zlib.crc32(file_data)\n",
    "        file_crc_dict[file_name] = crc\n",
    "\n",
    "print(file_crc_dict)\n",
    "\n",
    "## Step 3\n",
    "#CRC32 Hashing For Less files\n",
    "\n",
    "file_crc_dict2 = {}\n",
    "\n",
    "for file_name in folder2_files:\n",
    "    with open(file_name, \"rb\") as f:\n",
    "        file_data = f.read()\n",
    "        crc = zlib.crc32(file_data)\n",
    "        file_crc_dict2[file_name] = crc\n",
    "\n",
    "print(file_crc_dict2)"
   ]
  },
  {
   "cell_type": "code",
   "execution_count": 8,
   "metadata": {},
   "outputs": [
    {
     "name": "stdout",
     "output_type": "stream",
     "text": [
      "{}\n"
     ]
    }
   ],
   "source": [
    "#SHA256 For more files\n",
    "import hashlib\n",
    "\n",
    "file_hash_dict = {}\n",
    "\n",
    "for file_name in folder1_directories:\n",
    "    with open(file_name, \"rb\") as f:\n",
    "        file_data = f.read()\n",
    "        sha256_hash = hashlib.sha256(file_data).hexdigest()\n",
    "        file_hash_dict[file_name] = sha256_hash\n",
    "\n",
    "print(file_hash_dict)"
   ]
  },
  {
   "cell_type": "code",
   "execution_count": 8,
   "metadata": {},
   "outputs": [
    {
     "data": {
      "text/plain": [
       "' To call function\\nmy_dict = {\"Key1\": \"Value1\", \"Key2\": \"Value2\", \"Key3\": \"Value3\"}\\ndict_to_csv(my_dict, \"output.csv\")'"
      ]
     },
     "execution_count": 8,
     "metadata": {},
     "output_type": "execute_result"
    }
   ],
   "source": [
    "#Exporting the dictionary to files\n",
    "import csv\n",
    "\n",
    "def dict_to_csv(dictionary, filename):\n",
    "    with open(filename, 'w', newline='') as file:\n",
    "        writer = csv.writer(file)\n",
    "        writer.writerow(dictionary.keys())\n",
    "        writer.writerow(dictionary.values())\n",
    "\n",
    "''' To call function\n",
    "my_dict = {\"Key1\": \"Value1\", \"Key2\": \"Value2\", \"Key3\": \"Value3\"}\n",
    "dict_to_csv(my_dict, \"output.csv\")'''"
   ]
  },
  {
   "cell_type": "code",
   "execution_count": null,
   "metadata": {},
   "outputs": [],
   "source": []
  },
  {
   "cell_type": "code",
   "execution_count": 9,
   "metadata": {},
   "outputs": [],
   "source": [
    "## Code to create checksum\n",
    "# \"path\" is  for the code to generate checksum for file at the path\n"
   ]
  }
 ],
 "metadata": {
  "kernelspec": {
   "display_name": "Python 3",
   "language": "python",
   "name": "python3"
  },
  "language_info": {
   "codemirror_mode": {
    "name": "ipython",
    "version": 3
   },
   "file_extension": ".py",
   "mimetype": "text/x-python",
   "name": "python",
   "nbconvert_exporter": "python",
   "pygments_lexer": "ipython3",
   "version": "3.11.6"
  }
 },
 "nbformat": 4,
 "nbformat_minor": 2
}
