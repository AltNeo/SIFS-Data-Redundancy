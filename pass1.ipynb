{
 "cells": [
  {
   "cell_type": "markdown",
   "metadata": {},
   "source": [
    "Pass 1 includes \n",
    "0. Extracting all zip files into their respective folders\n",
    "0.5. Checking for any other sub zips\n",
    "1. Listing all files in two directories\n",
    "2. Checking for duplicates from file names\n",
    "3. Generating Checksums for all files\n",
    "4. Checking for duplicates based on the checksums\n"
   ]
  },
  {
   "cell_type": "code",
   "execution_count": null,
   "metadata": {},
   "outputs": [],
   "source": [
    "#Step 0\n",
    "import os\n",
    "import shutil\n",
    "import tarfile\n",
    "import zipfile\n",
    "\n",
    "def extract_files(archive_path):\n",
    "    # Extract the file extension from the archive path\n",
    "    file_extension = os.path.splitext(archive_path)[1]\n",
    "\n",
    "    # Create the destination folder with the same name as the archive\n",
    "    destination_folder = os.path.splitext(archive_path)[0]\n",
    "    os.makedirs(destination_folder, exist_ok=True)\n",
    "\n",
    "    # Extract the files based on the file extension\n",
    "    if file_extension == '.tar.gz':\n",
    "        with tarfile.open(archive_path, 'r:gz') as tar:\n",
    "            tar.extractall(destination_folder)\n",
    "    elif file_extension == '.zip':\n",
    "        with zipfile.ZipFile(archive_path, 'r') as zip:\n",
    "            zip.extractall(destination_folder)\n",
    "    else:\n",
    "        print('Unsupported file extension')\n",
    "\n",
    "    # Return the path of the extracted files\n",
    "    extracted_files_path = os.path.abspath(destination_folder)\n",
    "    return extracted_files_path\n",
    "\n",
    "# Example usage\n",
    "archive_path = 'path/to/archive.tar.gz'\n",
    "extracted_path = extract_files(archive_path)\n",
    "print('Extracted files path:', extracted_path)"
   ]
  },
  {
   "cell_type": "code",
   "execution_count": null,
   "metadata": {},
   "outputs": [],
   "source": [
    "#Search for zips 0.5\n",
    "import os\n",
    "import shutil\n",
    "import tarfile\n",
    "import zipfile\n",
    "\n",
    "def extract_files(archive_path):\n",
    "    # Extract the file extension from the archive path\n",
    "    file_extension = os.path.splitext(archive_path)[1]\n",
    "\n",
    "    # Create the destination folder with the same name as the archive\n",
    "    destination_folder = os.path.splitext(archive_path)[0]\n",
    "    os.makedirs(destination_folder, exist_ok=True)\n",
    "\n",
    "    # Extract the files based on the file extension\n",
    "    if file_extension == '.tar.gz':\n",
    "        with tarfile.open(archive_path, 'r:gz') as tar:\n",
    "            tar.extractall(destination_folder)\n",
    "    elif file_extension == '.zip':\n",
    "        with zipfile.ZipFile(archive_path, 'r') as zip:\n",
    "            zip.extractall(destination_folder)\n",
    "    else:\n",
    "        print('Unsupported file extension')\n",
    "\n",
    "def extract_files_from_directory(directory):\n",
    "    # Iterate over all files in the directory\n",
    "    for filename in os.listdir(directory):\n",
    "        file_path = os.path.join(directory, filename)\n",
    "\n",
    "        # Check if the file is a compressed file\n",
    "        if filename.endswith('.tar.gz') or filename.endswith('.zip'):\n",
    "            extract_files(file_path)\n",
    "\n",
    "# Example usage\n",
    "directory = '/mnt/8AE0D819E0D80CF7/SIFS/Set1/folder-1'\n",
    "extract_files_from_directory(directory)\n",
    "directory2 = '/mnt/8AE0D819E0D80CF7/SIFS/Set1/folder-2'\n",
    "extract_files_from_directory(directory2)"
   ]
  },
  {
   "cell_type": "code",
   "execution_count": 5,
   "metadata": {},
   "outputs": [
    {
     "name": "stdout",
     "output_type": "stream",
     "text": [
      "Folder 1 Directories: []\n",
      "Folder 1 Files: ['ddn-restapi-core-gs-4.2.1-3.3d53e4_dirty.noarch.rpm', '08456059.pdf', '20180006549.pdf', '235434231_RAW_PAN.pix', '235434251_RAW_PAN_LOG.txt', '3.121-CVE_to_be_installed.txt', '3.205-CVE_to_be_installed.txt', '3.207-CVE_to_be_installed.txt', 'anaconda-ks.cfg', 'authorized_keys-4-8-17', 'BAND_RPC.txt', 'buttons.print.min.js', 'catalina.2023-07-14.log', 'catalina.2023-07-16.log', 'catalina.2023-07-23.log', 'catalina.2023-08-26.log', 'covid_excel_20-38.xlsx', 'EaseUS Partition Master 9.2.2 Technician Edition (FULL + Patch).zip', 'fio-3.1-1.el6.x86_64.rpm', 'gpfs.gss.pmsensors-4.2.3-5.el7.x86_64.rpm', 'gwm66c08.jpg', 'import CSV.txt', 'KKD geo tagging (1).xlsx', 'LS____.pdf', 'mmhealth.sh', 'mounted', 'NewGCPs.bk', 'SR159360_ddn_showall_20210222-13_54_51.tar.gz', 'SR170158_ddn_showall_20210902-13_20_38.tar.gz', 'syslog', 'table.sql']\n",
      "Folder 2 Directories: []\n",
      "Folder 2 Files: ['08456059.pdf', '09173237.pdf', '109197_mmdf.out', '109197_waiters.log', '154625_NRSC-Vama_C0_sssa.log', '154625_NRSC-Vama_C1_sss.log', '154625_NRSC-Vama_C1_sssa.log', '154625_sss.log', '158916_nrsc_ibdiagnet', '158916_nrsc_mmdiag_waiters', '20180006549.pdf', '235434211_RAW_PAN.pix', '235434211_RAW_PAN_LOG.txt', '235434221_RAW_PAN.pix', '235434221_RAW_PAN_LOG.txt', '235434231_RAW_PAN.pix', '235434231_RAW_PAN_LOG.txt', '235434241_RAW_PAN.pix', '235434241_RAW_PAN_LOG.txt', '235434251_RAW_PAN.pix', '235434251_RAW_PAN_LOG.txt', '235434261_RAW_PAN.pix', '235434261_RAW_PAN_LOG.txt', '235434271_RAW_PAN.pix', '235434271_RAW_PAN_LOG.txt', 'fio.sh', 'flash2.sh', 'flash2_disk.lst', 'flash_S01_DMD203.lst', 'free.sh', 'FSSAI 1.pdf', 'gadm41_OMN_BUFF_10.dbf', 'gadm41_OMN_BUFF_10.prj', 'gadm41_OMN_BUFF_10.shp', 'gadm41_OMN_BUFF_10.shx', 'gcp-collection.report.txt', 'gcp-collection_RAW_PAN-GCP.bk', 'gcp-collection_RAW_PAN-GCP.prj', 'gcp-collection_RAW_PAN.prj', 'gcp-collection_RAW_PAN.prj.refhash.txt', 'gcp-collection_RAW_PAN.prj.summary.pix', 'gcp-collection_RAW_PAN.prj.summary.txt', 'geth.pdf', 'gpfs.base-4.2.3-0.x86_64.rpm', 'gpfs.docs-4.2.3-0.noarch.rpm', 'gpfs.ext-4.2.3-0.x86_64.rpm', 'gpfs.gpl-4.2.3-0.noarch.rpm', 'gpfs.gplbin-3.10.0-1062.4.1.el7.x86_64-4.2.3-21.x86_64.rpm', 'gpfs.gplbin-3.10.0-327.el7.x86_64-4.2.3-0.x86_64.rpm', 'gpfs.gskit-8.0.50-75.x86_64.rpm', 'gpfs.gss.pmsensors-4.2.3-5.el7.x86_64.rpm', 'gpfs.license.std-4.2.3-5.x86_64.rpm', 'gpfs.msg.en_US-4.2.3-0.noarch.rpm', 'output_image_status.txt', 'p1.js', 'p2.html', 'pam_krb5-2.4.8-4.el7.x86_64.rpm', 'Paper-Jones-Karen-Blockchain-Technology-–-Understanding-its-Place-in-Space (1).pdf', 'paper.docx', 'pass.txt', 'RAdv_5_2021.pdf', 'RC System details.docx', 'Results_2021-10-05_16-29-16', 'roltagxl2015.h2h', 'roltagxl2017.h2h', 'rpms.tar.gz', 's40965-018-0050-y (1).pdf', 'SanDisk_lightning2_LTxxxx0_P405.DDN', 'sas5.sh', 'Screen-Shot-2017-03-28-at-4.56.00-PM-775x223.webp', 'screenlog.0', 'screenshot.PNG', 'catalina.2023-07-11.log', 'catalina.2023-07-12.log', 'catalina.2023-07-14.log', 'catalina.2023-07-15.log', 'catalina.2023-07-16.log', 'catalina.2023-07-22.log', 'catalina.2023-07-23.log', 'catalina.2023-07-29.log', 'catalina.2023-07-30.log', 'catalina.2023-08-03.log', 'catalina.2023-08-05.log', 'catalina.2023-08-06.log', 'catalina.2023-08-12.log', 'catalina.2023-08-13.log', 'catalina.2023-08-15.log', 'catalina.2023-08-19.log', '25-mar-2021-date-check-output', 'catalina.2023-07-10.log', 'catalina.2023-08-20.log', 'client-rpms-upgrade-withgpl.tar', 'fio-3.1-1.el6.x86_64.rpm', 'gpfs01_fio.txt', 'insight2-31-12-2021.tar.gz', 'LS____.pdf', 'output_dodging_points.pix', 'seqread.fio', 'SR170158_ddn_showall_20210902-13_20_38.tar.gz', 'intermediate.crt', 'iperf-2.0.8-1.el7.x86_64.rpm', 'Jones_Blockchain_03052020 (1).pdf', 'jps.backup', 'KKD geo tagging (1).xlsx', 'KKD geo tagging (2).xlsx', 'KKD geo tagging (3).xlsx', 'KKD geo tagging.xlsx', 'kmltest.png', 'known_hosts-08-05-17', 'linux-nodes.txt', 'linux_nodes', 'Listing_Schedule_1.pdf', 'local_server_storage_check.sh', 'local_server_storage_check.txt', 'local_storage_check.sh', 'lrocall.txt', 'LS____ (1).pdf', 'LS____ (2).pdf', 'SR170158_ddn_showall_20210902-13_25_08.tar.gz', 'SR201434_ddn_showall_20230424-16_44_50.tar.gz', 'ssh.sh', 'subset-1of3.prj', 'subset-1of3.prj.report.txt', 'subset-1of3_prj_TPs.txt', 'subset-2of3.prj', 'subset-2of3.prj.report.txt', 'subset-2of3_prj_TPs.txt', 'subset-3of3.prj', 'subset-3of3.prj.report.txt', 'subset-3of3_prj_TPs.txt', 'sysfsutils-2.1.0-16.el7.x86_64.rpm', 'syslog', 'table.sql', 'test.go', 'typescript', 'uptime-script-test.sh', 'whitepaper-200320.pdf', 'workstation1.bhuvannrsc.com', 'xrdp-0.9.15-3.el7.x86_64.rpm', 'clustersync.txt', 'copy', 'Counters.rar', 'covid_excel_19-38.xlsx', 'covid_excel_20-38.xlsx', 'current.xlsx', 'date-check 1.sh', 'date-check.sh', 'date-output-06-nov-2020', 'date-output-compare', 'ddn-gs-api-4.2.1-21.1.ca4af0.noarch.rpm', 'ddn-gs-api-4.2.1-3.3d53e4_dirty.noarch.rpm', 'ddn-gs-api-4.2.1-4.569132.noarch.rpm', 'ddn-gs-api-4.2.1-5.083205.noarch.rpm', 'ddn-restapi-core-gs-4.2.1-3.3d53e4_dirty.noarch.rpm', 'ddn-restapi-core-gs-4.2.1-5.083205.noarch.rpm', 'ddn-restapi-master-gs-4.2.1-3.3d53e4_dirty.noarch.rpm', 'Details.id', 'Details2017.id', 'Dump.txt', 'EaseUS Partition Master 9.2.2 Technician Edition (FULL + Patch).zip', 'fbloc-03-497985.pdf', 'feb14-history', 'file.txt', 'filecount.sh', 'fio-2.2.8-2.el7.x86_64.rpm', '3.205-CVE_to_be_installed.txt', '3.206-CVE_to_be_installed.txt', '3.207-CVE_to_be_installed.txt', '3.208-CVE_to_be_installed.txt', 'a4 (1).pdf', 'a4.pdf', 'abc123', 'all.waiters2.txt', 'anaconda-ks.cfg', 'authorized_keys', 'authorized_keys-08-05-17', 'authorized_keys-4-8-17', 'BAND.dbf', 'BAND.prj', 'BAND.shp', 'BAND.shx', 'BAND_META.txt', 'BAND_META.xml', 'BAND_RPC.txt', 'bootstrap.min.js', 'buttons.html5.min.js', 'buttons.print.min.js', 'CA2906EN.pdf', 'Capture1.PNG', 'catalina.2023-07-02.log', 'catalina.2023-07-03.log', 'catalina.2023-07-08.log', 'catalina.2023-07-09.log', 'gpfs01_fio.txt_old', 'gpfs01_fio_32.txt', 'gpfs01_fio_32_1M.txt', 'gpfs01_fio_32_1M_C2.txt', 'gpfs01_fio_8.txt', 'gpfs4.2.3-5-clientrpms.tar', 'gs-insightrpm.tar', 'gwm57h07.jpg', 'gwm66c08.jpg', 'gwm66d05.jpg', 'ib-mellanox-installation-2017-07-16_13-40-35.log', 'ib-mellanox-installation-2017-10-04_02-32-02.log', 'ib-mellanox-installation-2017-11-04_14-36-03.log', 'ib-mellanox-installation-2020-04-25_02-46-48.log', 'ib-mellanox-iser-patch-installation-2020-04-25_02-53-15.log', 'ib-mellanox-srp-patch-installation-2020-04-25_02-53-05.log', 'IGCAR General Awareness Model Question Paper.pdf', 'import CSV.txt', 'insight1-31-12-2021.tar.gz', 'merged-subsets.prj', 'merged-subsets.prj.report.txt', 'merged-subsets.txt.mfile', 'mmhealth.sh', 'mounted', 'NASA SBIR &amp; STTR Program Homepage - Distributed Digital Ledger for Aerospace Applications - 2019-01-09.pdf', 'new 1.txt', 'new 2.txt', 'New Text Document.txt', 'NewGCPs.bk', 'NewGCPs.prj', 'nodelist.txt', 'nodelistnew.txt', 'nsd-tmp.txt', 'oman-aoi.aoi', 'output_cutline_preview.pix', 'output_cutline_topology.pix', 'output_data_extents.pix', 'seqwrite.fio', 'server.js', 'server1.crt', 'snap1.PNG', 'Spectrum_Scale_Standard-4.2.1.1-x86_64-Windows-install.zip.md5', 'SR153362_ddn_showall_20201029-15_03_32.tar.gz', 'SR153400_ddn_showall_20201025-11_49_30.tar.gz', 'SR157135_ddn_showall_20210106-14_27_44.tar.gz', 'SR158916_ddn_showall_20210207-12_39_53.tar.gz', 'SR159360_ddn_showall_20210217-12_22_04.tar.gz', 'SR159360_ddn_showall_20210222-13_54_51.tar.gz', 'SR161449_ddn_showall_20210331-16_31_16.tar.gz', 'SR170158_ddn_showall_20210902-12_51_23.tar.gz', 'catalina.2023-08-26.log', 'catalina.2023-08-27.log', 'catalina.2023-09-02.log', 'catalina.2023-09-03.log', 'catalina.2023-09-07.log', 'catalina.2023-09-09.log', 'catalina.2023-09-10.log', 'catalina.2023-09-15.log', 'catalina.2023-09-16.log', 'catalina.2023-09-17.log', 'catalina.2023-09-18.log', 'catalina.2023-09-19.log', 'catalina.2023-09-23.log', 'catalina.2023-09-24.log', 'catalina.2023-09-28.log', 'catalina.2023-09-29.log', 'catalina.2023-09-30.log', 'Chassis Temp & Fan.txt']\n"
     ]
    }
   ],
   "source": [
    "#Step1\n",
    "import os\n",
    "\n",
    "def get_directories_and_files(folder_path):\n",
    "    directories = []\n",
    "    files = []\n",
    "    \n",
    "    for entry in os.scandir(folder_path):\n",
    "        if entry.is_dir():\n",
    "            directories.append(entry.name)\n",
    "        else:\n",
    "            files.append(entry.name)\n",
    "    \n",
    "    return directories, files\n",
    "\n",
    "folder1_path = '/mnt/8AE0D819E0D80CF7/SIFS/Set1/folder-1'\n",
    "folder2_path = '/mnt/8AE0D819E0D80CF7/SIFS/Set1/folder-2'\n",
    "\n",
    "folder1_directories, folder1_files = get_directories_and_files(folder1_path)\n",
    "folder2_directories, folder2_files = get_directories_and_files(folder2_path)\n",
    "\n",
    "print(\"Folder 1 Directories:\", folder1_directories)\n",
    "print(\"Folder 1 Files:\", folder1_files)\n",
    "\n",
    "print(\"Folder 2 Directories:\", folder2_directories)\n",
    "print(\"Folder 2 Files:\", folder2_files)"
   ]
  },
  {
   "cell_type": "code",
   "execution_count": 6,
   "metadata": {},
   "outputs": [],
   "source": [
    "# File Name List\n",
    "file_names = [\"topic13.py\", \"trial2.py\"]"
   ]
  },
  {
   "cell_type": "code",
   "execution_count": 9,
   "metadata": {},
   "outputs": [
    {
     "ename": "FileNotFoundError",
     "evalue": "[Errno 2] No such file or directory: 'ddn-restapi-core-gs-4.2.1-3.3d53e4_dirty.noarch.rpm'",
     "output_type": "error",
     "traceback": [
      "\u001b[0;31m---------------------------------------------------------------------------\u001b[0m",
      "\u001b[0;31mFileNotFoundError\u001b[0m                         Traceback (most recent call last)",
      "Cell \u001b[0;32mIn[9], line 9\u001b[0m\n\u001b[1;32m      6\u001b[0m file_crc_dict \u001b[38;5;241m=\u001b[39m {}\n\u001b[1;32m      8\u001b[0m \u001b[38;5;28;01mfor\u001b[39;00m file_name \u001b[38;5;129;01min\u001b[39;00m folder1_files:\n\u001b[0;32m----> 9\u001b[0m     \u001b[38;5;28;01mwith\u001b[39;00m \u001b[38;5;28;43mopen\u001b[39;49m\u001b[43m(\u001b[49m\u001b[43mfile_name\u001b[49m\u001b[43m,\u001b[49m\u001b[43m \u001b[49m\u001b[38;5;124;43m\"\u001b[39;49m\u001b[38;5;124;43mrb\u001b[39;49m\u001b[38;5;124;43m\"\u001b[39;49m\u001b[43m)\u001b[49m \u001b[38;5;28;01mas\u001b[39;00m f:\n\u001b[1;32m     10\u001b[0m         file_data \u001b[38;5;241m=\u001b[39m f\u001b[38;5;241m.\u001b[39mread()\n\u001b[1;32m     11\u001b[0m         crc \u001b[38;5;241m=\u001b[39m zlib\u001b[38;5;241m.\u001b[39mcrc32(file_data)\n",
      "File \u001b[0;32m~/.local/lib/python3.11/site-packages/IPython/core/interactiveshell.py:310\u001b[0m, in \u001b[0;36m_modified_open\u001b[0;34m(file, *args, **kwargs)\u001b[0m\n\u001b[1;32m    303\u001b[0m \u001b[38;5;28;01mif\u001b[39;00m file \u001b[38;5;129;01min\u001b[39;00m {\u001b[38;5;241m0\u001b[39m, \u001b[38;5;241m1\u001b[39m, \u001b[38;5;241m2\u001b[39m}:\n\u001b[1;32m    304\u001b[0m     \u001b[38;5;28;01mraise\u001b[39;00m \u001b[38;5;167;01mValueError\u001b[39;00m(\n\u001b[1;32m    305\u001b[0m         \u001b[38;5;124mf\u001b[39m\u001b[38;5;124m\"\u001b[39m\u001b[38;5;124mIPython won\u001b[39m\u001b[38;5;124m'\u001b[39m\u001b[38;5;124mt let you open fd=\u001b[39m\u001b[38;5;132;01m{\u001b[39;00mfile\u001b[38;5;132;01m}\u001b[39;00m\u001b[38;5;124m by default \u001b[39m\u001b[38;5;124m\"\u001b[39m\n\u001b[1;32m    306\u001b[0m         \u001b[38;5;124m\"\u001b[39m\u001b[38;5;124mas it is likely to crash IPython. If you know what you are doing, \u001b[39m\u001b[38;5;124m\"\u001b[39m\n\u001b[1;32m    307\u001b[0m         \u001b[38;5;124m\"\u001b[39m\u001b[38;5;124myou can use builtins\u001b[39m\u001b[38;5;124m'\u001b[39m\u001b[38;5;124m open.\u001b[39m\u001b[38;5;124m\"\u001b[39m\n\u001b[1;32m    308\u001b[0m     )\n\u001b[0;32m--> 310\u001b[0m \u001b[38;5;28;01mreturn\u001b[39;00m \u001b[43mio_open\u001b[49m\u001b[43m(\u001b[49m\u001b[43mfile\u001b[49m\u001b[43m,\u001b[49m\u001b[43m \u001b[49m\u001b[38;5;241;43m*\u001b[39;49m\u001b[43margs\u001b[49m\u001b[43m,\u001b[49m\u001b[43m \u001b[49m\u001b[38;5;241;43m*\u001b[39;49m\u001b[38;5;241;43m*\u001b[39;49m\u001b[43mkwargs\u001b[49m\u001b[43m)\u001b[49m\n",
      "\u001b[0;31mFileNotFoundError\u001b[0m: [Errno 2] No such file or directory: 'ddn-restapi-core-gs-4.2.1-3.3d53e4_dirty.noarch.rpm'"
     ]
    }
   ],
   "source": [
    "## Step 3\n",
    "#CRC32 Hashing For Less files\n",
    "\n",
    "import zlib\n",
    "\n",
    "file_crc_dict = {}\n",
    "\n",
    "for file_name in folder1_files:\n",
    "    with open(file_name, \"rb\") as f:\n",
    "        file_data = f.read()\n",
    "        crc = zlib.crc32(file_data)\n",
    "        file_crc_dict[file_name] = crc\n",
    "\n",
    "print(file_crc_dict)\n",
    "\n",
    "## Step 3\n",
    "#CRC32 Hashing For Less files\n",
    "\n",
    "file_crc_dict2 = {}\n",
    "\n",
    "for file_name in folder2_files:\n",
    "    with open(file_name, \"rb\") as f:\n",
    "        file_data = f.read()\n",
    "        crc = zlib.crc32(file_data)\n",
    "        file_crc_dict2[file_name] = crc\n",
    "\n",
    "print(file_crc_dict2)"
   ]
  },
  {
   "cell_type": "code",
   "execution_count": null,
   "metadata": {},
   "outputs": [
    {
     "ename": "FileNotFoundError",
     "evalue": "[Errno 2] No such file or directory: 'ddn-restapi-core-gs-4.2.1-3.3d53e4_dirty.noarch.rpm'",
     "output_type": "error",
     "traceback": [
      "\u001b[0;31m---------------------------------------------------------------------------\u001b[0m\n",
      "\u001b[0;31mFileNotFoundError\u001b[0m                         Traceback (most recent call last)\n",
      "Cell \u001b[0;32mIn[9], line 9\u001b[0m\n",
      "\u001b[1;32m      6\u001b[0m file_crc_dict \u001b[38;5;241m=\u001b[39m {}\n",
      "\u001b[1;32m      8\u001b[0m \u001b[38;5;28;01mfor\u001b[39;00m file_name \u001b[38;5;129;01min\u001b[39;00m folder1_files:\n",
      "\u001b[0;32m----> 9\u001b[0m     \u001b[38;5;28;01mwith\u001b[39;00m \u001b[38;5;28;43mopen\u001b[39;49m\u001b[43m(\u001b[49m\u001b[43mfile_name\u001b[49m\u001b[43m,\u001b[49m\u001b[43m \u001b[49m\u001b[38;5;124;43m\"\u001b[39;49m\u001b[38;5;124;43mrb\u001b[39;49m\u001b[38;5;124;43m\"\u001b[39;49m\u001b[43m)\u001b[49m \u001b[38;5;28;01mas\u001b[39;00m f:\n",
      "\u001b[1;32m     10\u001b[0m         file_data \u001b[38;5;241m=\u001b[39m f\u001b[38;5;241m.\u001b[39mread()\n",
      "\u001b[1;32m     11\u001b[0m         crc \u001b[38;5;241m=\u001b[39m zlib\u001b[38;5;241m.\u001b[39mcrc32(file_data)\n",
      "\n",
      "File \u001b[0;32m~/.local/lib/python3.11/site-packages/IPython/core/interactiveshell.py:310\u001b[0m, in \u001b[0;36m_modified_open\u001b[0;34m(file, *args, **kwargs)\u001b[0m\n",
      "\u001b[1;32m    303\u001b[0m \u001b[38;5;28;01mif\u001b[39;00m file \u001b[38;5;129;01min\u001b[39;00m {\u001b[38;5;241m0\u001b[39m, \u001b[38;5;241m1\u001b[39m, \u001b[38;5;241m2\u001b[39m}:\n",
      "\u001b[1;32m    304\u001b[0m     \u001b[38;5;28;01mraise\u001b[39;00m \u001b[38;5;167;01mValueError\u001b[39;00m(\n",
      "\u001b[1;32m    305\u001b[0m         \u001b[38;5;124mf\u001b[39m\u001b[38;5;124m\"\u001b[39m\u001b[38;5;124mIPython won\u001b[39m\u001b[38;5;124m'\u001b[39m\u001b[38;5;124mt let you open fd=\u001b[39m\u001b[38;5;132;01m{\u001b[39;00mfile\u001b[38;5;132;01m}\u001b[39;00m\u001b[38;5;124m by default \u001b[39m\u001b[38;5;124m\"\u001b[39m\n",
      "\u001b[1;32m    306\u001b[0m         \u001b[38;5;124m\"\u001b[39m\u001b[38;5;124mas it is likely to crash IPython. If you know what you are doing, \u001b[39m\u001b[38;5;124m\"\u001b[39m\n",
      "\u001b[1;32m    307\u001b[0m         \u001b[38;5;124m\"\u001b[39m\u001b[38;5;124myou can use builtins\u001b[39m\u001b[38;5;124m'\u001b[39m\u001b[38;5;124m open.\u001b[39m\u001b[38;5;124m\"\u001b[39m\n",
      "\u001b[1;32m    308\u001b[0m     )\n",
      "\u001b[0;32m--> 310\u001b[0m \u001b[38;5;28;01mreturn\u001b[39;00m \u001b[43mio_open\u001b[49m\u001b[43m(\u001b[49m\u001b[43mfile\u001b[49m\u001b[43m,\u001b[49m\u001b[43m \u001b[49m\u001b[38;5;241;43m*\u001b[39;49m\u001b[43margs\u001b[49m\u001b[43m,\u001b[49m\u001b[43m \u001b[49m\u001b[38;5;241;43m*\u001b[39;49m\u001b[38;5;241;43m*\u001b[39;49m\u001b[43mkwargs\u001b[49m\u001b[43m)\u001b[49m\n",
      "\n",
      "\u001b[0;31mFileNotFoundError\u001b[0m: [Errno 2] No such file or directory: 'ddn-restapi-core-gs-4.2.1-3.3d53e4_dirty.noarch.rpm'"
     ]
    }
   ],
   "source": [
    "## Step 3\n",
    "#CRC32 Hashing For Less files\n",
    "\n",
    "import zlib\n",
    "\n",
    "file_crc_dict = {}\n",
    "\n",
    "for file_name in folder1_files:\n",
    "    with open(file_name, \"rb\") as f:\n",
    "        file_data = f.read()\n",
    "        crc = zlib.crc32(file_data)\n",
    "        file_crc_dict[file_name] = crc\n",
    "\n",
    "print(file_crc_dict)\n",
    "\n",
    "## Step 3\n",
    "#CRC32 Hashing For Less files\n",
    "\n",
    "file_crc_dict2 = {}\n",
    "\n",
    "for file_name in folder2_files:\n",
    "    with open(file_name, \"rb\") as f:\n",
    "        file_data = f.read()\n",
    "        crc = zlib.crc32(file_data)\n",
    "        file_crc_dict2[file_name] = crc\n",
    "\n",
    "print(file_crc_dict2)"
   ]
  },
  {
   "cell_type": "code",
   "execution_count": null,
   "metadata": {},
   "outputs": [
    {
     "ename": "FileNotFoundError",
     "evalue": "[Errno 2] No such file or directory: 'ddn-restapi-core-gs-4.2.1-3.3d53e4_dirty.noarch.rpm'",
     "output_type": "error",
     "traceback": [
      "\u001b[0;31m---------------------------------------------------------------------------\u001b[0m\n",
      "\u001b[0;31mFileNotFoundError\u001b[0m                         Traceback (most recent call last)\n",
      "Cell \u001b[0;32mIn[9], line 9\u001b[0m\n",
      "\u001b[1;32m      6\u001b[0m file_crc_dict \u001b[38;5;241m=\u001b[39m {}\n",
      "\u001b[1;32m      8\u001b[0m \u001b[38;5;28;01mfor\u001b[39;00m file_name \u001b[38;5;129;01min\u001b[39;00m folder1_files:\n",
      "\u001b[0;32m----> 9\u001b[0m     \u001b[38;5;28;01mwith\u001b[39;00m \u001b[38;5;28;43mopen\u001b[39;49m\u001b[43m(\u001b[49m\u001b[43mfile_name\u001b[49m\u001b[43m,\u001b[49m\u001b[43m \u001b[49m\u001b[38;5;124;43m\"\u001b[39;49m\u001b[38;5;124;43mrb\u001b[39;49m\u001b[38;5;124;43m\"\u001b[39;49m\u001b[43m)\u001b[49m \u001b[38;5;28;01mas\u001b[39;00m f:\n",
      "\u001b[1;32m     10\u001b[0m         file_data \u001b[38;5;241m=\u001b[39m f\u001b[38;5;241m.\u001b[39mread()\n",
      "\u001b[1;32m     11\u001b[0m         crc \u001b[38;5;241m=\u001b[39m zlib\u001b[38;5;241m.\u001b[39mcrc32(file_data)\n",
      "\n",
      "File \u001b[0;32m~/.local/lib/python3.11/site-packages/IPython/core/interactiveshell.py:310\u001b[0m, in \u001b[0;36m_modified_open\u001b[0;34m(file, *args, **kwargs)\u001b[0m\n",
      "\u001b[1;32m    303\u001b[0m \u001b[38;5;28;01mif\u001b[39;00m file \u001b[38;5;129;01min\u001b[39;00m {\u001b[38;5;241m0\u001b[39m, \u001b[38;5;241m1\u001b[39m, \u001b[38;5;241m2\u001b[39m}:\n",
      "\u001b[1;32m    304\u001b[0m     \u001b[38;5;28;01mraise\u001b[39;00m \u001b[38;5;167;01mValueError\u001b[39;00m(\n",
      "\u001b[1;32m    305\u001b[0m         \u001b[38;5;124mf\u001b[39m\u001b[38;5;124m\"\u001b[39m\u001b[38;5;124mIPython won\u001b[39m\u001b[38;5;124m'\u001b[39m\u001b[38;5;124mt let you open fd=\u001b[39m\u001b[38;5;132;01m{\u001b[39;00mfile\u001b[38;5;132;01m}\u001b[39;00m\u001b[38;5;124m by default \u001b[39m\u001b[38;5;124m\"\u001b[39m\n",
      "\u001b[1;32m    306\u001b[0m         \u001b[38;5;124m\"\u001b[39m\u001b[38;5;124mas it is likely to crash IPython. If you know what you are doing, \u001b[39m\u001b[38;5;124m\"\u001b[39m\n",
      "\u001b[1;32m    307\u001b[0m         \u001b[38;5;124m\"\u001b[39m\u001b[38;5;124myou can use builtins\u001b[39m\u001b[38;5;124m'\u001b[39m\u001b[38;5;124m open.\u001b[39m\u001b[38;5;124m\"\u001b[39m\n",
      "\u001b[1;32m    308\u001b[0m     )\n",
      "\u001b[0;32m--> 310\u001b[0m \u001b[38;5;28;01mreturn\u001b[39;00m \u001b[43mio_open\u001b[49m\u001b[43m(\u001b[49m\u001b[43mfile\u001b[49m\u001b[43m,\u001b[49m\u001b[43m \u001b[49m\u001b[38;5;241;43m*\u001b[39;49m\u001b[43margs\u001b[49m\u001b[43m,\u001b[49m\u001b[43m \u001b[49m\u001b[38;5;241;43m*\u001b[39;49m\u001b[38;5;241;43m*\u001b[39;49m\u001b[43mkwargs\u001b[49m\u001b[43m)\u001b[49m\n",
      "\n",
      "\u001b[0;31mFileNotFoundError\u001b[0m: [Errno 2] No such file or directory: 'ddn-restapi-core-gs-4.2.1-3.3d53e4_dirty.noarch.rpm'"
     ]
    }
   ],
   "source": [
    "## Step 3\n",
    "#CRC32 Hashing For Less files\n",
    "\n",
    "import zlib\n",
    "\n",
    "file_crc_dict = {}\n",
    "\n",
    "for file_name in folder1_files:\n",
    "    with open(file_name, \"rb\") as f:\n",
    "        file_data = f.read()\n",
    "        crc = zlib.crc32(file_data)\n",
    "        file_crc_dict[file_name] = crc\n",
    "\n",
    "print(file_crc_dict)\n",
    "\n",
    "## Step 3\n",
    "#CRC32 Hashing For Less files\n",
    "\n",
    "file_crc_dict2 = {}\n",
    "\n",
    "for file_name in folder2_files:\n",
    "    with open(file_name, \"rb\") as f:\n",
    "        file_data = f.read()\n",
    "        crc = zlib.crc32(file_data)\n",
    "        file_crc_dict2[file_name] = crc\n",
    "\n",
    "print(file_crc_dict2)"
   ]
  },
  {
   "cell_type": "code",
   "execution_count": null,
   "metadata": {},
   "outputs": [
    {
     "ename": "FileNotFoundError",
     "evalue": "[Errno 2] No such file or directory: 'ddn-restapi-core-gs-4.2.1-3.3d53e4_dirty.noarch.rpm'",
     "output_type": "error",
     "traceback": [
      "\u001b[0;31m---------------------------------------------------------------------------\u001b[0m\n",
      "\u001b[0;31mFileNotFoundError\u001b[0m                         Traceback (most recent call last)\n",
      "Cell \u001b[0;32mIn[9], line 9\u001b[0m\n",
      "\u001b[1;32m      6\u001b[0m file_crc_dict \u001b[38;5;241m=\u001b[39m {}\n",
      "\u001b[1;32m      8\u001b[0m \u001b[38;5;28;01mfor\u001b[39;00m file_name \u001b[38;5;129;01min\u001b[39;00m folder1_files:\n",
      "\u001b[0;32m----> 9\u001b[0m     \u001b[38;5;28;01mwith\u001b[39;00m \u001b[38;5;28;43mopen\u001b[39;49m\u001b[43m(\u001b[49m\u001b[43mfile_name\u001b[49m\u001b[43m,\u001b[49m\u001b[43m \u001b[49m\u001b[38;5;124;43m\"\u001b[39;49m\u001b[38;5;124;43mrb\u001b[39;49m\u001b[38;5;124;43m\"\u001b[39;49m\u001b[43m)\u001b[49m \u001b[38;5;28;01mas\u001b[39;00m f:\n",
      "\u001b[1;32m     10\u001b[0m         file_data \u001b[38;5;241m=\u001b[39m f\u001b[38;5;241m.\u001b[39mread()\n",
      "\u001b[1;32m     11\u001b[0m         crc \u001b[38;5;241m=\u001b[39m zlib\u001b[38;5;241m.\u001b[39mcrc32(file_data)\n",
      "\n",
      "File \u001b[0;32m~/.local/lib/python3.11/site-packages/IPython/core/interactiveshell.py:310\u001b[0m, in \u001b[0;36m_modified_open\u001b[0;34m(file, *args, **kwargs)\u001b[0m\n",
      "\u001b[1;32m    303\u001b[0m \u001b[38;5;28;01mif\u001b[39;00m file \u001b[38;5;129;01min\u001b[39;00m {\u001b[38;5;241m0\u001b[39m, \u001b[38;5;241m1\u001b[39m, \u001b[38;5;241m2\u001b[39m}:\n",
      "\u001b[1;32m    304\u001b[0m     \u001b[38;5;28;01mraise\u001b[39;00m \u001b[38;5;167;01mValueError\u001b[39;00m(\n",
      "\u001b[1;32m    305\u001b[0m         \u001b[38;5;124mf\u001b[39m\u001b[38;5;124m\"\u001b[39m\u001b[38;5;124mIPython won\u001b[39m\u001b[38;5;124m'\u001b[39m\u001b[38;5;124mt let you open fd=\u001b[39m\u001b[38;5;132;01m{\u001b[39;00mfile\u001b[38;5;132;01m}\u001b[39;00m\u001b[38;5;124m by default \u001b[39m\u001b[38;5;124m\"\u001b[39m\n",
      "\u001b[1;32m    306\u001b[0m         \u001b[38;5;124m\"\u001b[39m\u001b[38;5;124mas it is likely to crash IPython. If you know what you are doing, \u001b[39m\u001b[38;5;124m\"\u001b[39m\n",
      "\u001b[1;32m    307\u001b[0m         \u001b[38;5;124m\"\u001b[39m\u001b[38;5;124myou can use builtins\u001b[39m\u001b[38;5;124m'\u001b[39m\u001b[38;5;124m open.\u001b[39m\u001b[38;5;124m\"\u001b[39m\n",
      "\u001b[1;32m    308\u001b[0m     )\n",
      "\u001b[0;32m--> 310\u001b[0m \u001b[38;5;28;01mreturn\u001b[39;00m \u001b[43mio_open\u001b[49m\u001b[43m(\u001b[49m\u001b[43mfile\u001b[49m\u001b[43m,\u001b[49m\u001b[43m \u001b[49m\u001b[38;5;241;43m*\u001b[39;49m\u001b[43margs\u001b[49m\u001b[43m,\u001b[49m\u001b[43m \u001b[49m\u001b[38;5;241;43m*\u001b[39;49m\u001b[38;5;241;43m*\u001b[39;49m\u001b[43mkwargs\u001b[49m\u001b[43m)\u001b[49m\n",
      "\n",
      "\u001b[0;31mFileNotFoundError\u001b[0m: [Errno 2] No such file or directory: 'ddn-restapi-core-gs-4.2.1-3.3d53e4_dirty.noarch.rpm'"
     ]
    }
   ],
   "source": [
    "## Step 3\n",
    "#CRC32 Hashing For Less files\n",
    "\n",
    "import zlib\n",
    "\n",
    "file_crc_dict = {}\n",
    "\n",
    "for file_name in folder1_files:\n",
    "    with open(file_name, \"rb\") as f:\n",
    "        file_data = f.read()\n",
    "        crc = zlib.crc32(file_data)\n",
    "        file_crc_dict[file_name] = crc\n",
    "\n",
    "print(file_crc_dict)\n",
    "\n",
    "## Step 3\n",
    "#CRC32 Hashing For Less files\n",
    "\n",
    "file_crc_dict2 = {}\n",
    "\n",
    "for file_name in folder2_files:\n",
    "    with open(file_name, \"rb\") as f:\n",
    "        file_data = f.read()\n",
    "        crc = zlib.crc32(file_data)\n",
    "        file_crc_dict2[file_name] = crc\n",
    "\n",
    "print(file_crc_dict2)"
   ]
  },
  {
   "cell_type": "code",
   "execution_count": null,
   "metadata": {},
   "outputs": [
    {
     "ename": "FileNotFoundError",
     "evalue": "[Errno 2] No such file or directory: 'ddn-restapi-core-gs-4.2.1-3.3d53e4_dirty.noarch.rpm'",
     "output_type": "error",
     "traceback": [
      "\u001b[0;31m---------------------------------------------------------------------------\u001b[0m\n",
      "\u001b[0;31mFileNotFoundError\u001b[0m                         Traceback (most recent call last)\n",
      "Cell \u001b[0;32mIn[9], line 9\u001b[0m\n",
      "\u001b[1;32m      6\u001b[0m file_crc_dict \u001b[38;5;241m=\u001b[39m {}\n",
      "\u001b[1;32m      8\u001b[0m \u001b[38;5;28;01mfor\u001b[39;00m file_name \u001b[38;5;129;01min\u001b[39;00m folder1_files:\n",
      "\u001b[0;32m----> 9\u001b[0m     \u001b[38;5;28;01mwith\u001b[39;00m \u001b[38;5;28;43mopen\u001b[39;49m\u001b[43m(\u001b[49m\u001b[43mfile_name\u001b[49m\u001b[43m,\u001b[49m\u001b[43m \u001b[49m\u001b[38;5;124;43m\"\u001b[39;49m\u001b[38;5;124;43mrb\u001b[39;49m\u001b[38;5;124;43m\"\u001b[39;49m\u001b[43m)\u001b[49m \u001b[38;5;28;01mas\u001b[39;00m f:\n",
      "\u001b[1;32m     10\u001b[0m         file_data \u001b[38;5;241m=\u001b[39m f\u001b[38;5;241m.\u001b[39mread()\n",
      "\u001b[1;32m     11\u001b[0m         crc \u001b[38;5;241m=\u001b[39m zlib\u001b[38;5;241m.\u001b[39mcrc32(file_data)\n",
      "\n",
      "File \u001b[0;32m~/.local/lib/python3.11/site-packages/IPython/core/interactiveshell.py:310\u001b[0m, in \u001b[0;36m_modified_open\u001b[0;34m(file, *args, **kwargs)\u001b[0m\n",
      "\u001b[1;32m    303\u001b[0m \u001b[38;5;28;01mif\u001b[39;00m file \u001b[38;5;129;01min\u001b[39;00m {\u001b[38;5;241m0\u001b[39m, \u001b[38;5;241m1\u001b[39m, \u001b[38;5;241m2\u001b[39m}:\n",
      "\u001b[1;32m    304\u001b[0m     \u001b[38;5;28;01mraise\u001b[39;00m \u001b[38;5;167;01mValueError\u001b[39;00m(\n",
      "\u001b[1;32m    305\u001b[0m         \u001b[38;5;124mf\u001b[39m\u001b[38;5;124m\"\u001b[39m\u001b[38;5;124mIPython won\u001b[39m\u001b[38;5;124m'\u001b[39m\u001b[38;5;124mt let you open fd=\u001b[39m\u001b[38;5;132;01m{\u001b[39;00mfile\u001b[38;5;132;01m}\u001b[39;00m\u001b[38;5;124m by default \u001b[39m\u001b[38;5;124m\"\u001b[39m\n",
      "\u001b[1;32m    306\u001b[0m         \u001b[38;5;124m\"\u001b[39m\u001b[38;5;124mas it is likely to crash IPython. If you know what you are doing, \u001b[39m\u001b[38;5;124m\"\u001b[39m\n",
      "\u001b[1;32m    307\u001b[0m         \u001b[38;5;124m\"\u001b[39m\u001b[38;5;124myou can use builtins\u001b[39m\u001b[38;5;124m'\u001b[39m\u001b[38;5;124m open.\u001b[39m\u001b[38;5;124m\"\u001b[39m\n",
      "\u001b[1;32m    308\u001b[0m     )\n",
      "\u001b[0;32m--> 310\u001b[0m \u001b[38;5;28;01mreturn\u001b[39;00m \u001b[43mio_open\u001b[49m\u001b[43m(\u001b[49m\u001b[43mfile\u001b[49m\u001b[43m,\u001b[49m\u001b[43m \u001b[49m\u001b[38;5;241;43m*\u001b[39;49m\u001b[43margs\u001b[49m\u001b[43m,\u001b[49m\u001b[43m \u001b[49m\u001b[38;5;241;43m*\u001b[39;49m\u001b[38;5;241;43m*\u001b[39;49m\u001b[43mkwargs\u001b[49m\u001b[43m)\u001b[49m\n",
      "\n",
      "\u001b[0;31mFileNotFoundError\u001b[0m: [Errno 2] No such file or directory: 'ddn-restapi-core-gs-4.2.1-3.3d53e4_dirty.noarch.rpm'"
     ]
    }
   ],
   "source": [
    "## Step 3\n",
    "#CRC32 Hashing For Less files\n",
    "\n",
    "import zlib\n",
    "\n",
    "file_crc_dict = {}\n",
    "\n",
    "for file_name in folder1_files:\n",
    "    with open(file_name, \"rb\") as f:\n",
    "        file_data = f.read()\n",
    "        crc = zlib.crc32(file_data)\n",
    "        file_crc_dict[file_name] = crc\n",
    "\n",
    "print(file_crc_dict)\n",
    "\n",
    "## Step 3\n",
    "#CRC32 Hashing For Less files\n",
    "\n",
    "file_crc_dict2 = {}\n",
    "\n",
    "for file_name in folder2_files:\n",
    "    with open(file_name, \"rb\") as f:\n",
    "        file_data = f.read()\n",
    "        crc = zlib.crc32(file_data)\n",
    "        file_crc_dict2[file_name] = crc\n",
    "\n",
    "print(file_crc_dict2)"
   ]
  },
  {
   "cell_type": "code",
   "execution_count": null,
   "metadata": {},
   "outputs": [
    {
     "ename": "FileNotFoundError",
     "evalue": "[Errno 2] No such file or directory: 'ddn-restapi-core-gs-4.2.1-3.3d53e4_dirty.noarch.rpm'",
     "output_type": "error",
     "traceback": [
      "\u001b[0;31m---------------------------------------------------------------------------\u001b[0m\n",
      "\u001b[0;31mFileNotFoundError\u001b[0m                         Traceback (most recent call last)\n",
      "Cell \u001b[0;32mIn[9], line 9\u001b[0m\n",
      "\u001b[1;32m      6\u001b[0m file_crc_dict \u001b[38;5;241m=\u001b[39m {}\n",
      "\u001b[1;32m      8\u001b[0m \u001b[38;5;28;01mfor\u001b[39;00m file_name \u001b[38;5;129;01min\u001b[39;00m folder1_files:\n",
      "\u001b[0;32m----> 9\u001b[0m     \u001b[38;5;28;01mwith\u001b[39;00m \u001b[38;5;28;43mopen\u001b[39;49m\u001b[43m(\u001b[49m\u001b[43mfile_name\u001b[49m\u001b[43m,\u001b[49m\u001b[43m \u001b[49m\u001b[38;5;124;43m\"\u001b[39;49m\u001b[38;5;124;43mrb\u001b[39;49m\u001b[38;5;124;43m\"\u001b[39;49m\u001b[43m)\u001b[49m \u001b[38;5;28;01mas\u001b[39;00m f:\n",
      "\u001b[1;32m     10\u001b[0m         file_data \u001b[38;5;241m=\u001b[39m f\u001b[38;5;241m.\u001b[39mread()\n",
      "\u001b[1;32m     11\u001b[0m         crc \u001b[38;5;241m=\u001b[39m zlib\u001b[38;5;241m.\u001b[39mcrc32(file_data)\n",
      "\n",
      "File \u001b[0;32m~/.local/lib/python3.11/site-packages/IPython/core/interactiveshell.py:310\u001b[0m, in \u001b[0;36m_modified_open\u001b[0;34m(file, *args, **kwargs)\u001b[0m\n",
      "\u001b[1;32m    303\u001b[0m \u001b[38;5;28;01mif\u001b[39;00m file \u001b[38;5;129;01min\u001b[39;00m {\u001b[38;5;241m0\u001b[39m, \u001b[38;5;241m1\u001b[39m, \u001b[38;5;241m2\u001b[39m}:\n",
      "\u001b[1;32m    304\u001b[0m     \u001b[38;5;28;01mraise\u001b[39;00m \u001b[38;5;167;01mValueError\u001b[39;00m(\n",
      "\u001b[1;32m    305\u001b[0m         \u001b[38;5;124mf\u001b[39m\u001b[38;5;124m\"\u001b[39m\u001b[38;5;124mIPython won\u001b[39m\u001b[38;5;124m'\u001b[39m\u001b[38;5;124mt let you open fd=\u001b[39m\u001b[38;5;132;01m{\u001b[39;00mfile\u001b[38;5;132;01m}\u001b[39;00m\u001b[38;5;124m by default \u001b[39m\u001b[38;5;124m\"\u001b[39m\n",
      "\u001b[1;32m    306\u001b[0m         \u001b[38;5;124m\"\u001b[39m\u001b[38;5;124mas it is likely to crash IPython. If you know what you are doing, \u001b[39m\u001b[38;5;124m\"\u001b[39m\n",
      "\u001b[1;32m    307\u001b[0m         \u001b[38;5;124m\"\u001b[39m\u001b[38;5;124myou can use builtins\u001b[39m\u001b[38;5;124m'\u001b[39m\u001b[38;5;124m open.\u001b[39m\u001b[38;5;124m\"\u001b[39m\n",
      "\u001b[1;32m    308\u001b[0m     )\n",
      "\u001b[0;32m--> 310\u001b[0m \u001b[38;5;28;01mreturn\u001b[39;00m \u001b[43mio_open\u001b[49m\u001b[43m(\u001b[49m\u001b[43mfile\u001b[49m\u001b[43m,\u001b[49m\u001b[43m \u001b[49m\u001b[38;5;241;43m*\u001b[39;49m\u001b[43margs\u001b[49m\u001b[43m,\u001b[49m\u001b[43m \u001b[49m\u001b[38;5;241;43m*\u001b[39;49m\u001b[38;5;241;43m*\u001b[39;49m\u001b[43mkwargs\u001b[49m\u001b[43m)\u001b[49m\n",
      "\n",
      "\u001b[0;31mFileNotFoundError\u001b[0m: [Errno 2] No such file or directory: 'ddn-restapi-core-gs-4.2.1-3.3d53e4_dirty.noarch.rpm'"
     ]
    }
   ],
   "source": [
    "## Step 3\n",
    "#CRC32 Hashing For Less files\n",
    "\n",
    "import zlib\n",
    "\n",
    "file_crc_dict = {}\n",
    "\n",
    "for file_name in folder1_files:\n",
    "    with open(file_name, \"rb\") as f:\n",
    "        file_data = f.read()\n",
    "        crc = zlib.crc32(file_data)\n",
    "        file_crc_dict[file_name] = crc\n",
    "\n",
    "print(file_crc_dict)\n",
    "\n",
    "## Step 3\n",
    "#CRC32 Hashing For Less files\n",
    "\n",
    "file_crc_dict2 = {}\n",
    "\n",
    "for file_name in folder2_files:\n",
    "    with open(file_name, \"rb\") as f:\n",
    "        file_data = f.read()\n",
    "        crc = zlib.crc32(file_data)\n",
    "        file_crc_dict2[file_name] = crc\n",
    "\n",
    "print(file_crc_dict2)"
   ]
  },
  {
   "cell_type": "code",
   "execution_count": 8,
   "metadata": {},
   "outputs": [
    {
     "name": "stdout",
     "output_type": "stream",
     "text": [
      "{}\n"
     ]
    }
   ],
   "source": [
    "#SHA256 For more files\n",
    "import hashlib\n",
    "\n",
    "file_hash_dict = {}\n",
    "\n",
    "for file_name in folder1_directories:\n",
    "    with open(file_name, \"rb\") as f:\n",
    "        file_data = f.read()\n",
    "        sha256_hash = hashlib.sha256(file_data).hexdigest()\n",
    "        file_hash_dict[file_name] = sha256_hash\n",
    "\n",
    "print(file_hash_dict)"
   ]
  },
  {
   "cell_type": "code",
   "execution_count": 8,
   "metadata": {},
   "outputs": [
    {
     "data": {
      "text/plain": [
       "' To call function\\nmy_dict = {\"Key1\": \"Value1\", \"Key2\": \"Value2\", \"Key3\": \"Value3\"}\\ndict_to_csv(my_dict, \"output.csv\")'"
      ]
     },
     "execution_count": 8,
     "metadata": {},
     "output_type": "execute_result"
    }
   ],
   "source": [
    "#Exporting the dictionary to files\n",
    "import csv\n",
    "\n",
    "def dict_to_csv(dictionary, filename):\n",
    "    with open(filename, 'w', newline='') as file:\n",
    "        writer = csv.writer(file)\n",
    "        writer.writerow(dictionary.keys())\n",
    "        writer.writerow(dictionary.values())\n",
    "\n",
    "''' To call function\n",
    "my_dict = {\"Key1\": \"Value1\", \"Key2\": \"Value2\", \"Key3\": \"Value3\"}\n",
    "dict_to_csv(my_dict, \"output.csv\")'''"
   ]
  },
  {
   "cell_type": "code",
   "execution_count": null,
   "metadata": {},
   "outputs": [],
   "source": []
  },
  {
   "cell_type": "code",
   "execution_count": 9,
   "metadata": {},
   "outputs": [],
   "source": [
    "## Code to create checksum\n",
    "# \"path\" is  for the code to generate checksum for file at the path\n"
   ]
  }
 ],
 "metadata": {
  "kernelspec": {
   "display_name": "Python 3",
   "language": "python",
   "name": "python3"
  },
  "language_info": {
   "codemirror_mode": {
    "name": "ipython",
    "version": 3
   },
   "file_extension": ".py",
   "mimetype": "text/x-python",
   "name": "python",
   "nbconvert_exporter": "python",
   "pygments_lexer": "ipython3",
   "version": "3.11.6"
  }
 },
 "nbformat": 4,
 "nbformat_minor": 2
}
